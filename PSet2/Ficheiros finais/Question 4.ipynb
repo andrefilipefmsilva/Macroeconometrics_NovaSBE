{
 "cells": [
  {
   "cell_type": "markdown",
   "metadata": {},
   "source": [
    "# Problem Set 2 - Question 4 Answers"
   ]
  },
  {
   "cell_type": "markdown",
   "metadata": {},
   "source": [
    "##### André Filipe Silva - 26005\n",
    "##### João Seixo - 40510\n",
    "##### Márcia Serra - 41221"
   ]
  },
  {
   "cell_type": "markdown",
   "metadata": {},
   "source": [
    "Before the first question we must import the required data."
   ]
  },
  {
   "cell_type": "code",
   "execution_count": 1,
   "metadata": {},
   "outputs": [
    {
     "name": "stderr",
     "output_type": "stream",
     "text": [
      "Warning message:\n",
      "\"package 'readxl' was built under R version 3.6.3\""
     ]
    }
   ],
   "source": [
    "library(readxl)\n",
    "data= read_xls(\"C:\\\\Users\\\\andre\\\\OneDrive\\\\Documentos\\\\Economia Nova SBE\\\\1st year\\\\2º Semestre\\\\Macroeconometrics\\\\Assignments\\\\PSet2\\\\ps_2_data.xls\")"
   ]
  },
  {
   "cell_type": "markdown",
   "metadata": {},
   "source": [
    "## Exercise 4a"
   ]
  },
  {
   "cell_type": "code",
   "execution_count": 2,
   "metadata": {},
   "outputs": [],
   "source": [
    "data=data[,-1]\n",
    "datats=as.ts(data)"
   ]
  },
  {
   "cell_type": "markdown",
   "metadata": {},
   "source": [
    "We will use the ADF test for stationarity, which has the following test hypothesis:\n",
    "\n",
    "$H_0$: Non - Stationarity<br>\n",
    "$H_1$: Stationarity"
   ]
  },
  {
   "cell_type": "code",
   "execution_count": 4,
   "metadata": {},
   "outputs": [],
   "source": [
    "library(tseries)"
   ]
  },
  {
   "cell_type": "markdown",
   "metadata": {},
   "source": [
    "Stationarity test for the unemployment rate series:"
   ]
  },
  {
   "cell_type": "code",
   "execution_count": 5,
   "metadata": {},
   "outputs": [
    {
     "data": {
      "text/plain": [
       "\n",
       "\tAugmented Dickey-Fuller Test\n",
       "\n",
       "data:  datats[, 1]\n",
       "Dickey-Fuller = -3.1415, Lag order = 8, p-value = 0.09801\n",
       "alternative hypothesis: stationary\n"
      ]
     },
     "metadata": {},
     "output_type": "display_data"
    }
   ],
   "source": [
    "adf.test(datats[,1])"
   ]
  },
  {
   "cell_type": "markdown",
   "metadata": {},
   "source": [
    "For a 5% significance level, unemployment rate is not stationary. But it would be stationary if we considered a 10% significance level."
   ]
  },
  {
   "cell_type": "markdown",
   "metadata": {},
   "source": [
    "Stationarity test for the Average Hourly Earnings series:"
   ]
  },
  {
   "cell_type": "code",
   "execution_count": 6,
   "metadata": {},
   "outputs": [
    {
     "data": {
      "text/plain": [
       "\n",
       "\tAugmented Dickey-Fuller Test\n",
       "\n",
       "data:  datats[, 2]\n",
       "Dickey-Fuller = -0.94687, Lag order = 8, p-value = 0.9473\n",
       "alternative hypothesis: stationary\n"
      ]
     },
     "metadata": {},
     "output_type": "display_data"
    }
   ],
   "source": [
    "adf.test(datats[,2])"
   ]
  },
  {
   "cell_type": "markdown",
   "metadata": {},
   "source": [
    "For a 5% significance level, average hourly earnings are not stationary."
   ]
  },
  {
   "cell_type": "markdown",
   "metadata": {},
   "source": [
    "## Exercise 4b"
   ]
  },
  {
   "cell_type": "code",
   "execution_count": 9,
   "metadata": {},
   "outputs": [
    {
     "data": {
      "text/plain": [
       "\n",
       "VAR Estimation Results:\n",
       "======================= \n",
       "\n",
       "Estimated coefficients for equation unrate: \n",
       "=========================================== \n",
       "Call:\n",
       "unrate = unrate.l1 + wage.l1 + unrate.l2 + wage.l2 + unrate.l3 + wage.l3 + unrate.l4 + wage.l4 + unrate.l5 + wage.l5 + unrate.l6 + wage.l6 + unrate.l7 + wage.l7 + unrate.l8 + wage.l8 + unrate.l9 + wage.l9 + unrate.l10 + wage.l10 + const \n",
       "\n",
       "   unrate.l1      wage.l1    unrate.l2      wage.l2    unrate.l3      wage.l3 \n",
       " 0.997715160 -0.161609462  0.145098129  0.087422518 -0.028651446  0.445054900 \n",
       "   unrate.l4      wage.l4    unrate.l5      wage.l5    unrate.l6      wage.l6 \n",
       " 0.038682675 -0.256108281 -0.087279762 -0.050692008 -0.006612815  0.606033550 \n",
       "   unrate.l7      wage.l7    unrate.l8      wage.l8    unrate.l9      wage.l9 \n",
       "-0.064995910 -0.096719950 -0.003116134 -0.624989969  0.007338920  0.386963642 \n",
       "  unrate.l10     wage.l10        const \n",
       "-0.008657744 -0.338593054  0.039556636 \n",
       "\n",
       "\n",
       "Estimated coefficients for equation wage: \n",
       "========================================= \n",
       "Call:\n",
       "wage = unrate.l1 + wage.l1 + unrate.l2 + wage.l2 + unrate.l3 + wage.l3 + unrate.l4 + wage.l4 + unrate.l5 + wage.l5 + unrate.l6 + wage.l6 + unrate.l7 + wage.l7 + unrate.l8 + wage.l8 + unrate.l9 + wage.l9 + unrate.l10 + wage.l10 + const \n",
       "\n",
       "    unrate.l1       wage.l1     unrate.l2       wage.l2     unrate.l3 \n",
       "-0.0038732148  0.7562178394  0.0088196455  0.2608343374 -0.0151680427 \n",
       "      wage.l3     unrate.l4       wage.l4     unrate.l5       wage.l5 \n",
       " 0.2016551242 -0.0038714621 -0.1372962918  0.0124597715  0.0625317685 \n",
       "    unrate.l6       wage.l6     unrate.l7       wage.l7     unrate.l8 \n",
       " 0.0019741778 -0.0009406821 -0.0026475831 -0.1122385961  0.0152924751 \n",
       "      wage.l8     unrate.l9       wage.l9    unrate.l10      wage.l10 \n",
       " 0.0868318172 -0.0104657897  0.1572949253 -0.0036178871 -0.2745880342 \n",
       "        const \n",
       " 0.0106040129 \n",
       "\n"
      ]
     },
     "metadata": {},
     "output_type": "display_data"
    }
   ],
   "source": [
    "library(vars)\n",
    "var1=VAR(datats, lag.max= 24, ic=\"AIC\")\n",
    "var1"
   ]
  },
  {
   "cell_type": "code",
   "execution_count": 24,
   "metadata": {},
   "outputs": [
    {
     "data": {
      "image/png": "[encoded data removed]",
      "text/plain": [
       "plot without title"
      ]
     },
     "metadata": {},
     "output_type": "display_data"
    }
   ],
   "source": [
    "par(mfrow=c(2,1))\n",
    "plot(residuals(var1)[,1], ylab=\"unemp residuals\")\n",
    "abline(h=0,col=\"red\")\n",
    "plot(residuals(var1)[,2], ylab=\"wage residuals\")\n",
    "abline(h=0, col=\"red\")"
   ]
  },
  {
   "cell_type": "markdown",
   "metadata": {},
   "source": [
    "Upon graphical inspection of the residuals, they do look stationary. However, we will proceed with more formal steps to conclude it.  We will perform a formal Augmented Dickey-Fuller test to be sure the residuals are stationary."
   ]
  },
  {
   "cell_type": "markdown",
   "metadata": {},
   "source": [
    "Using the ADF test, the hypothesis are:\n",
    "\n",
    "$H_0$: Unit Root (non-stationarity)<br>\n",
    "$H_1$: Stationarity"
   ]
  },
  {
   "cell_type": "code",
   "execution_count": 59,
   "metadata": {},
   "outputs": [
    {
     "name": "stderr",
     "output_type": "stream",
     "text": [
      "Warning message in adf.test((residuals(var1)[, 1])):\n",
      "\"p-value smaller than printed p-value\""
     ]
    },
    {
     "data": {
      "text/plain": [
       "\n",
       "\tAugmented Dickey-Fuller Test\n",
       "\n",
       "data:  (residuals(var1)[, 1])\n",
       "Dickey-Fuller = -8.1468, Lag order = 8, p-value = 0.01\n",
       "alternative hypothesis: stationary\n"
      ]
     },
     "metadata": {},
     "output_type": "display_data"
    }
   ],
   "source": [
    "adf.test((residuals(var1)[,1]))"
   ]
  },
  {
   "cell_type": "code",
   "execution_count": 61,
   "metadata": {},
   "outputs": [
    {
     "name": "stderr",
     "output_type": "stream",
     "text": [
      "Warning message in adf.test(residuals(var1)[, 2]):\n",
      "\"p-value smaller than printed p-value\""
     ]
    },
    {
     "data": {
      "text/plain": [
       "\n",
       "\tAugmented Dickey-Fuller Test\n",
       "\n",
       "data:  residuals(var1)[, 2]\n",
       "Dickey-Fuller = -8.9356, Lag order = 8, p-value = 0.01\n",
       "alternative hypothesis: stationary\n"
      ]
     },
     "metadata": {},
     "output_type": "display_data"
    }
   ],
   "source": [
    "adf.test(residuals(var1)[,2])"
   ]
  },
  {
   "cell_type": "markdown",
   "metadata": {},
   "source": [
    "For both residual series, we reject the null hypothesis.<br>\n",
    "So, we can conclude that both residuals series are stationary."
   ]
  },
  {
   "cell_type": "markdown",
   "metadata": {},
   "source": [
    "## Exercise 4c"
   ]
  },
  {
   "cell_type": "markdown",
   "metadata": {},
   "source": [
    "Note: As there was no indication of the number of \"steps-ahead\" to compute, we computed as far ahead as we could for maximum reliability and result interpretation."
   ]
  },
  {
   "cell_type": "code",
   "execution_count": 43,
   "metadata": {},
   "outputs": [
    {
     "data": {
      "image/png": "[encoded data removed]",
      "text/plain": [
       "plot without title"
      ]
     },
     "metadata": {},
     "output_type": "display_data"
    },
    {
     "data": {
      "image/png": "[encoded data removed]",
      "text/plain": [
       "plot without title"
      ]
     },
     "metadata": {},
     "output_type": "display_data"
    }
   ],
   "source": [
    "irf1=irf(var1, n.ahead=664, ci=0.95, runs=100)\n",
    "plot(irf1)"
   ]
  },
  {
   "cell_type": "markdown",
   "metadata": {},
   "source": [
    "Transforming the data for interpretation:"
   ]
  },
  {
   "cell_type": "code",
   "execution_count": 44,
   "metadata": {},
   "outputs": [],
   "source": [
    "data4c=data\n",
    "data4c[,2]=(log(data4c[,2]))*100\n",
    "data4cts=as.ts(data4c)"
   ]
  },
  {
   "cell_type": "code",
   "execution_count": 45,
   "metadata": {},
   "outputs": [],
   "source": [
    "var2=VAR(data4cts, lag.max =24, ic=\"AIC\")\n",
    "irf2=irf(var2, n.ahead=664, ci=0.95,runs=100)"
   ]
  },
  {
   "cell_type": "code",
   "execution_count": 46,
   "metadata": {},
   "outputs": [
    {
     "data": {
      "image/png": "[encoded data removed]",
      "text/plain": [
       "plot without title"
      ]
     },
     "metadata": {},
     "output_type": "display_data"
    },
    {
     "data": {
      "image/png": "[encoded data removed]",
      "text/plain": [
       "plot without title"
      ]
     },
     "metadata": {},
     "output_type": "display_data"
    }
   ],
   "source": [
    "plot(irf2)"
   ]
  },
  {
   "cell_type": "code",
   "execution_count": 52,
   "metadata": {},
   "outputs": [
    {
     "data": {
      "text/html": [
       "<table>\n",
       "<thead><tr><th scope=col>unrate</th><th scope=col>wage</th></tr></thead>\n",
       "<tbody>\n",
       "\t<tr><td>0.1565424  </td><td>-0.02922724</td></tr>\n",
       "\t<tr><td>0.1574580  </td><td>-0.02810773</td></tr>\n",
       "\t<tr><td>0.1807575  </td><td>-0.02523782</td></tr>\n",
       "\t<tr><td>0.1973153  </td><td>-0.04707346</td></tr>\n",
       "\t<tr><td>0.2222352  </td><td>-0.07091138</td></tr>\n",
       "</tbody>\n",
       "</table>\n"
      ],
      "text/latex": [
       "\\begin{tabular}{ll}\n",
       " unrate & wage\\\\\n",
       "\\hline\n",
       "\t 0.1565424   & -0.02922724\\\\\n",
       "\t 0.1574580   & -0.02810773\\\\\n",
       "\t 0.1807575   & -0.02523782\\\\\n",
       "\t 0.1973153   & -0.04707346\\\\\n",
       "\t 0.2222352   & -0.07091138\\\\\n",
       "\\end{tabular}\n"
      ],
      "text/markdown": [
       "\n",
       "| unrate | wage |\n",
       "|---|---|\n",
       "| 0.1565424   | -0.02922724 |\n",
       "| 0.1574580   | -0.02810773 |\n",
       "| 0.1807575   | -0.02523782 |\n",
       "| 0.1973153   | -0.04707346 |\n",
       "| 0.2222352   | -0.07091138 |\n",
       "\n"
      ],
      "text/plain": [
       "     unrate    wage       \n",
       "[1,] 0.1565424 -0.02922724\n",
       "[2,] 0.1574580 -0.02810773\n",
       "[3,] 0.1807575 -0.02523782\n",
       "[4,] 0.1973153 -0.04707346\n",
       "[5,] 0.2222352 -0.07091138"
      ]
     },
     "metadata": {},
     "output_type": "display_data"
    },
    {
     "data": {
      "text/html": [
       "-0.441282718022085"
      ],
      "text/latex": [
       "-0.441282718022085"
      ],
      "text/markdown": [
       "-0.441282718022085"
      ],
      "text/plain": [
       "[1] -0.4412827"
      ]
     },
     "metadata": {},
     "output_type": "display_data"
    }
   ],
   "source": [
    "irf2$irf$unrate[1:5,]\n",
    "min(irf2$irf$unrate[,2])"
   ]
  },
  {
   "cell_type": "markdown",
   "metadata": {},
   "source": [
    "When there is a shock to unemployment rate of around 15.65%, wages decrease by around 29% contemporaneously. The effect seems to be long-lasting, peaking at around -44% but then stabilizing at around -20%."
   ]
  },
  {
   "cell_type": "code",
   "execution_count": 53,
   "metadata": {},
   "outputs": [
    {
     "data": {
      "text/html": [
       "<table>\n",
       "<thead><tr><th scope=col>unrate</th><th scope=col>wage</th></tr></thead>\n",
       "<tbody>\n",
       "\t<tr><td> 0.000000000</td><td>0.1824096   </td></tr>\n",
       "\t<tr><td>-0.009385314</td><td>0.1482168   </td></tr>\n",
       "\t<tr><td>-0.007577133</td><td>0.1499522   </td></tr>\n",
       "\t<tr><td> 0.005680792</td><td>0.1810602   </td></tr>\n",
       "\t<tr><td> 0.006307142</td><td>0.1780844   </td></tr>\n",
       "</tbody>\n",
       "</table>\n"
      ],
      "text/latex": [
       "\\begin{tabular}{ll}\n",
       " unrate & wage\\\\\n",
       "\\hline\n",
       "\t  0.000000000 & 0.1824096   \\\\\n",
       "\t -0.009385314 & 0.1482168   \\\\\n",
       "\t -0.007577133 & 0.1499522   \\\\\n",
       "\t  0.005680792 & 0.1810602   \\\\\n",
       "\t  0.006307142 & 0.1780844   \\\\\n",
       "\\end{tabular}\n"
      ],
      "text/markdown": [
       "\n",
       "| unrate | wage |\n",
       "|---|---|\n",
       "|  0.000000000 | 0.1824096    |\n",
       "| -0.009385314 | 0.1482168    |\n",
       "| -0.007577133 | 0.1499522    |\n",
       "|  0.005680792 | 0.1810602    |\n",
       "|  0.006307142 | 0.1780844    |\n",
       "\n"
      ],
      "text/plain": [
       "     unrate       wage     \n",
       "[1,]  0.000000000 0.1824096\n",
       "[2,] -0.009385314 0.1482168\n",
       "[3,] -0.007577133 0.1499522\n",
       "[4,]  0.005680792 0.1810602\n",
       "[5,]  0.006307142 0.1780844"
      ]
     },
     "metadata": {},
     "output_type": "display_data"
    }
   ],
   "source": [
    "irf2$irf$wage[1:5,]"
   ]
  },
  {
   "cell_type": "markdown",
   "metadata": {},
   "source": [
    "Contemporaneously, shocks to wages do not affect unemployment rate: this is by construction, as required for the identification of our VAR model.\n",
    "\n",
    "Starting from one step-ahead, however, an increase of around 14.82% in wage leads to increases in the unemployment rate, not very large in magnitude but persistent (we say persistent because it lasts for around 122 steps, meaning around 10 years)."
   ]
  },
  {
   "cell_type": "markdown",
   "metadata": {},
   "source": [
    "## Exercise 4d"
   ]
  },
  {
   "cell_type": "code",
   "execution_count": 54,
   "metadata": {},
   "outputs": [],
   "source": [
    "data4d= data[,c(2,1)]\n",
    "data4dts=as.ts(data4d)\n",
    "var3=VAR(data4dts, lag.max =24, ic=\"AIC\")\n",
    "\n",
    "irf3=irf(var3, n.ahead=664, ci=0.95, runs=100)"
   ]
  },
  {
   "cell_type": "code",
   "execution_count": 55,
   "metadata": {},
   "outputs": [
    {
     "data": {
      "image/png": "[encoded data removed]",
      "text/plain": [
       "plot without title"
      ]
     },
     "metadata": {},
     "output_type": "display_data"
    },
    {
     "data": {
      "image/png": "[encoded data removed]",
      "text/plain": [
       "plot without title"
      ]
     },
     "metadata": {},
     "output_type": "display_data"
    }
   ],
   "source": [
    "plot(irf3)"
   ]
  },
  {
   "cell_type": "markdown",
   "metadata": {},
   "source": [
    "Formally testing for the stationarity of the residuals, once again the hypothesis for the ADF test are:\n",
    "\n",
    "$H_0$: Unit Root (Non-Stationarity)<br>\n",
    "$H_1$: Stationarity"
   ]
  },
  {
   "cell_type": "code",
   "execution_count": 62,
   "metadata": {},
   "outputs": [
    {
     "name": "stderr",
     "output_type": "stream",
     "text": [
      "Warning message in adf.test(residuals(var3)[, 1]):\n",
      "\"p-value smaller than printed p-value\""
     ]
    },
    {
     "data": {
      "text/plain": [
       "\n",
       "\tAugmented Dickey-Fuller Test\n",
       "\n",
       "data:  residuals(var3)[, 1]\n",
       "Dickey-Fuller = -8.9356, Lag order = 8, p-value = 0.01\n",
       "alternative hypothesis: stationary\n"
      ]
     },
     "metadata": {},
     "output_type": "display_data"
    }
   ],
   "source": [
    "adf.test(residuals(var3)[,1])"
   ]
  },
  {
   "cell_type": "code",
   "execution_count": 63,
   "metadata": {},
   "outputs": [
    {
     "name": "stderr",
     "output_type": "stream",
     "text": [
      "Warning message in adf.test(residuals(var3)[, 2]):\n",
      "\"p-value smaller than printed p-value\""
     ]
    },
    {
     "data": {
      "text/plain": [
       "\n",
       "\tAugmented Dickey-Fuller Test\n",
       "\n",
       "data:  residuals(var3)[, 2]\n",
       "Dickey-Fuller = -8.1468, Lag order = 8, p-value = 0.01\n",
       "alternative hypothesis: stationary\n"
      ]
     },
     "metadata": {},
     "output_type": "display_data"
    }
   ],
   "source": [
    "adf.test(residuals(var3)[,2])"
   ]
  },
  {
   "cell_type": "markdown",
   "metadata": {},
   "source": [
    "The p-values for the ADF tests lead us to reject the null hypothesis, for a significance level of 5%. As such, we conclude for stationarity of the residuals of our VAR. Our conclusions do not change from the ones found in b)."
   ]
  },
  {
   "cell_type": "markdown",
   "metadata": {},
   "source": [
    "## Exercise 4e"
   ]
  },
  {
   "cell_type": "code",
   "execution_count": 67,
   "metadata": {},
   "outputs": [
    {
     "data": {
      "text/html": [
       "<table>\n",
       "<thead><tr><th scope=col>wage</th><th scope=col>unrate</th></tr></thead>\n",
       "<tbody>\n",
       "\t<tr><td>1.0000000   </td><td>0.0000000000</td></tr>\n",
       "\t<tr><td>0.9991588   </td><td>0.0008412325</td></tr>\n",
       "\t<tr><td>0.9992551   </td><td>0.0007449185</td></tr>\n",
       "\t<tr><td>0.9967160   </td><td>0.0032839603</td></tr>\n",
       "\t<tr><td>0.9880792   </td><td>0.0119208417</td></tr>\n",
       "\t<tr><td>0.9841039   </td><td>0.0158961144</td></tr>\n",
       "\t<tr><td>0.9794308   </td><td>0.0205691967</td></tr>\n",
       "\t<tr><td>0.9721070   </td><td>0.0278929711</td></tr>\n",
       "\t<tr><td>0.9727292   </td><td>0.0272707543</td></tr>\n",
       "\t<tr><td>0.9719857   </td><td>0.0280142518</td></tr>\n",
       "</tbody>\n",
       "</table>\n"
      ],
      "text/latex": [
       "\\begin{tabular}{ll}\n",
       " wage & unrate\\\\\n",
       "\\hline\n",
       "\t 1.0000000    & 0.0000000000\\\\\n",
       "\t 0.9991588    & 0.0008412325\\\\\n",
       "\t 0.9992551    & 0.0007449185\\\\\n",
       "\t 0.9967160    & 0.0032839603\\\\\n",
       "\t 0.9880792    & 0.0119208417\\\\\n",
       "\t 0.9841039    & 0.0158961144\\\\\n",
       "\t 0.9794308    & 0.0205691967\\\\\n",
       "\t 0.9721070    & 0.0278929711\\\\\n",
       "\t 0.9727292    & 0.0272707543\\\\\n",
       "\t 0.9719857    & 0.0280142518\\\\\n",
       "\\end{tabular}\n"
      ],
      "text/markdown": [
       "\n",
       "| wage | unrate |\n",
       "|---|---|\n",
       "| 1.0000000    | 0.0000000000 |\n",
       "| 0.9991588    | 0.0008412325 |\n",
       "| 0.9992551    | 0.0007449185 |\n",
       "| 0.9967160    | 0.0032839603 |\n",
       "| 0.9880792    | 0.0119208417 |\n",
       "| 0.9841039    | 0.0158961144 |\n",
       "| 0.9794308    | 0.0205691967 |\n",
       "| 0.9721070    | 0.0278929711 |\n",
       "| 0.9727292    | 0.0272707543 |\n",
       "| 0.9719857    | 0.0280142518 |\n",
       "\n"
      ],
      "text/plain": [
       "      wage      unrate      \n",
       " [1,] 1.0000000 0.0000000000\n",
       " [2,] 0.9991588 0.0008412325\n",
       " [3,] 0.9992551 0.0007449185\n",
       " [4,] 0.9967160 0.0032839603\n",
       " [5,] 0.9880792 0.0119208417\n",
       " [6,] 0.9841039 0.0158961144\n",
       " [7,] 0.9794308 0.0205691967\n",
       " [8,] 0.9721070 0.0278929711\n",
       " [9,] 0.9727292 0.0272707543\n",
       "[10,] 0.9719857 0.0280142518"
      ]
     },
     "metadata": {},
     "output_type": "display_data"
    }
   ],
   "source": [
    "fevd1=fevd(var3, n.ahead=664, ci=0.95)\n",
    "fevd1$wage[1:10,]"
   ]
  },
  {
   "cell_type": "markdown",
   "metadata": {},
   "source": [
    "We see that at impact, unemployment rate shocks have zero relevance in explaining movements in wages - which matches our identification restriction.<br>\n",
    "However, as time progresses, unemployment rate shocks are increasingly more relevant to explain moves in wages. We can see that 8 years ahead (96 steps-ahead) it explains about 28.19% of the movement in wages, and about 40% at 30 years ahead (360 steps). It gets increasingly more important in explaining wages as time goes by.<br>\n",
    "Note: This can be found through RStudio but Jupyter limits the number of steps-ahead that can be displayed. "
   ]
  },
  {
   "cell_type": "code",
   "execution_count": 68,
   "metadata": {},
   "outputs": [
    {
     "data": {
      "text/html": [
       "<table>\n",
       "<thead><tr><th scope=col>wage</th><th scope=col>unrate</th></tr></thead>\n",
       "<tbody>\n",
       "\t<tr><td>0.008410719</td><td>0.9915893  </td></tr>\n",
       "\t<tr><td>0.010108832</td><td>0.9898912  </td></tr>\n",
       "\t<tr><td>0.010869312</td><td>0.9891307  </td></tr>\n",
       "\t<tr><td>0.009354733</td><td>0.9906453  </td></tr>\n",
       "\t<tr><td>0.008621467</td><td>0.9913785  </td></tr>\n",
       "\t<tr><td>0.007991624</td><td>0.9920084  </td></tr>\n",
       "\t<tr><td>0.006426549</td><td>0.9935735  </td></tr>\n",
       "\t<tr><td>0.005197962</td><td>0.9948020  </td></tr>\n",
       "\t<tr><td>0.004313632</td><td>0.9956864  </td></tr>\n",
       "\t<tr><td>0.003848229</td><td>0.9961518  </td></tr>\n",
       "</tbody>\n",
       "</table>\n"
      ],
      "text/latex": [
       "\\begin{tabular}{ll}\n",
       " wage & unrate\\\\\n",
       "\\hline\n",
       "\t 0.008410719 & 0.9915893  \\\\\n",
       "\t 0.010108832 & 0.9898912  \\\\\n",
       "\t 0.010869312 & 0.9891307  \\\\\n",
       "\t 0.009354733 & 0.9906453  \\\\\n",
       "\t 0.008621467 & 0.9913785  \\\\\n",
       "\t 0.007991624 & 0.9920084  \\\\\n",
       "\t 0.006426549 & 0.9935735  \\\\\n",
       "\t 0.005197962 & 0.9948020  \\\\\n",
       "\t 0.004313632 & 0.9956864  \\\\\n",
       "\t 0.003848229 & 0.9961518  \\\\\n",
       "\\end{tabular}\n"
      ],
      "text/markdown": [
       "\n",
       "| wage | unrate |\n",
       "|---|---|\n",
       "| 0.008410719 | 0.9915893   |\n",
       "| 0.010108832 | 0.9898912   |\n",
       "| 0.010869312 | 0.9891307   |\n",
       "| 0.009354733 | 0.9906453   |\n",
       "| 0.008621467 | 0.9913785   |\n",
       "| 0.007991624 | 0.9920084   |\n",
       "| 0.006426549 | 0.9935735   |\n",
       "| 0.005197962 | 0.9948020   |\n",
       "| 0.004313632 | 0.9956864   |\n",
       "| 0.003848229 | 0.9961518   |\n",
       "\n"
      ],
      "text/plain": [
       "      wage        unrate   \n",
       " [1,] 0.008410719 0.9915893\n",
       " [2,] 0.010108832 0.9898912\n",
       " [3,] 0.010869312 0.9891307\n",
       " [4,] 0.009354733 0.9906453\n",
       " [5,] 0.008621467 0.9913785\n",
       " [6,] 0.007991624 0.9920084\n",
       " [7,] 0.006426549 0.9935735\n",
       " [8,] 0.005197962 0.9948020\n",
       " [9,] 0.004313632 0.9956864\n",
       "[10,] 0.003848229 0.9961518"
      ]
     },
     "metadata": {},
     "output_type": "display_data"
    }
   ],
   "source": [
    "fevd1$unrate[1:10,]"
   ]
  },
  {
   "cell_type": "markdown",
   "metadata": {},
   "source": [
    " When we decompose the proportions for movements in the unemployment rate sequence, we see that right from impact, wage shocks explains some of the change in unemployment rate. It keeps increasing but as time progresses it stabilizes at about 22.5% in terms of relative importance."
   ]
  },
  {
   "cell_type": "markdown",
   "metadata": {},
   "source": [
    "## Exercise 4f"
   ]
  },
  {
   "cell_type": "markdown",
   "metadata": {},
   "source": [
    "Granger causality testing requires the variables of the VARs to be stationary. We need thus to have stationary time series.<br>\n",
    "In Question 4a) we saw that neither of the two variables are stationary at a 5% level. Since we have monthly data, it is likely that first differencing alone will not solve our problem, but let's try."
   ]
  },
  {
   "cell_type": "code",
   "execution_count": 69,
   "metadata": {},
   "outputs": [],
   "source": [
    "firstdiff=diff(data4dts)"
   ]
  },
  {
   "cell_type": "code",
   "execution_count": 70,
   "metadata": {},
   "outputs": [
    {
     "name": "stderr",
     "output_type": "stream",
     "text": [
      "Warning message in adf.test(firstdiff[, 2]):\n",
      "\"p-value smaller than printed p-value\""
     ]
    },
    {
     "data": {
      "text/plain": [
       "\n",
       "\tAugmented Dickey-Fuller Test\n",
       "\n",
       "data:  firstdiff[, 2]\n",
       "Dickey-Fuller = -5.8298, Lag order = 8, p-value = 0.01\n",
       "alternative hypothesis: stationary\n"
      ]
     },
     "metadata": {},
     "output_type": "display_data"
    }
   ],
   "source": [
    "adf.test(firstdiff[,2])"
   ]
  },
  {
   "cell_type": "markdown",
   "metadata": {},
   "source": [
    "First-differencing unemployment rate makes it stationary."
   ]
  },
  {
   "cell_type": "code",
   "execution_count": 71,
   "metadata": {},
   "outputs": [
    {
     "data": {
      "text/plain": [
       "\n",
       "\tAugmented Dickey-Fuller Test\n",
       "\n",
       "data:  firstdiff[, 1]\n",
       "Dickey-Fuller = -3.3243, Lag order = 8, p-value = 0.06649\n",
       "alternative hypothesis: stationary\n"
      ]
     },
     "metadata": {},
     "output_type": "display_data"
    }
   ],
   "source": [
    "adf.test(firstdiff[,1])"
   ]
  },
  {
   "cell_type": "markdown",
   "metadata": {},
   "source": [
    "However, first-differencing wages does not make it stationary yet.<br>\n",
    "We will try second-differencing for both variables."
   ]
  },
  {
   "cell_type": "code",
   "execution_count": 72,
   "metadata": {},
   "outputs": [],
   "source": [
    "seconddiff=diff(firstdiff)"
   ]
  },
  {
   "cell_type": "code",
   "execution_count": 73,
   "metadata": {},
   "outputs": [
    {
     "name": "stderr",
     "output_type": "stream",
     "text": [
      "Warning message in adf.test(seconddiff[, 1]):\n",
      "\"p-value smaller than printed p-value\""
     ]
    },
    {
     "data": {
      "text/plain": [
       "\n",
       "\tAugmented Dickey-Fuller Test\n",
       "\n",
       "data:  seconddiff[, 1]\n",
       "Dickey-Fuller = -13.533, Lag order = 8, p-value = 0.01\n",
       "alternative hypothesis: stationary\n"
      ]
     },
     "metadata": {},
     "output_type": "display_data"
    }
   ],
   "source": [
    "adf.test(seconddiff[,1])"
   ]
  },
  {
   "cell_type": "markdown",
   "metadata": {},
   "source": [
    "The wages series is now stationary as well. We can proceed towards Granger-causality testing."
   ]
  },
  {
   "cell_type": "code",
   "execution_count": 74,
   "metadata": {},
   "outputs": [],
   "source": [
    "var4=VAR(seconddiff, lag.max = 20, ic=\"AIC\")"
   ]
  },
  {
   "cell_type": "markdown",
   "metadata": {},
   "source": [
    "__The question: Does unemployment rate Granger-cause wages?__"
   ]
  },
  {
   "cell_type": "code",
   "execution_count": 75,
   "metadata": {},
   "outputs": [
    {
     "data": {
      "text/plain": [
       "$Granger\n",
       "\n",
       "\tGranger causality H0: unrate do not Granger-cause wage\n",
       "\n",
       "data:  VAR object var4\n",
       "F-Test = 2.7757, df1 = 15, df2 = 1252, p-value = 0.0003013\n",
       "\n",
       "\n",
       "$Instant\n",
       "\n",
       "\tH0: No instantaneous causality between: unrate and wage\n",
       "\n",
       "data:  VAR object var4\n",
       "Chi-squared = 3.4959, df = 1, p-value = 0.06152\n",
       "\n"
      ]
     },
     "metadata": {},
     "output_type": "display_data"
    }
   ],
   "source": [
    "causality(var4, cause=c(\"unrate\"))"
   ]
  },
  {
   "cell_type": "markdown",
   "metadata": {},
   "source": [
    "From the F-Test p-value, we can reject the null hypothesis, and therefore conclude that unemployment rate Granger-causes wages."
   ]
  }
 ],
 "metadata": {
  "kernelspec": {
   "display_name": "R",
   "language": "R",
   "name": "ir"
  },
  "language_info": {
   "codemirror_mode": "r",
   "file_extension": ".r",
   "mimetype": "text/x-r-source",
   "name": "R",
   "pygments_lexer": "r",
   "version": "3.6.1"
  },
  "varInspector": {
   "cols": {
    "lenName": 16,
    "lenType": 16,
    "lenVar": 40
   },
   "kernels_config": {
    "python": {
     "delete_cmd_postfix": "",
     "delete_cmd_prefix": "del ",
     "library": "var_list.py",
     "varRefreshCmd": "print(var_dic_list())"
    },
    "r": {
     "delete_cmd_postfix": ") ",
     "delete_cmd_prefix": "rm(",
     "library": "var_list.r",
     "varRefreshCmd": "cat(var_dic_list()) "
    }
   },
   "position": {
    "height": "332.4px",
    "left": "1246.6px",
    "right": "20px",
    "top": "6px",
    "width": "327.4px"
   },
   "types_to_exclude": [
    "module",
    "function",
    "builtin_function_or_method",
    "instance",
    "_Feature"
   ],
   "window_display": false
  }
 },
 "nbformat": 4,
 "nbformat_minor": 4
}
