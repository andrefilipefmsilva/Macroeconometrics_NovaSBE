{
 "cells": [
  {
   "cell_type": "markdown",
   "metadata": {},
   "source": [
    "# PROBLEM SET 1 - PART 4"
   ]
  },
  {
   "cell_type": "markdown",
   "metadata": {},
   "source": [
    "## André Filipe Silva - 26005"
   ]
  },
  {
   "cell_type": "markdown",
   "metadata": {},
   "source": [
    "# a)"
   ]
  },
  {
   "cell_type": "code",
   "execution_count": 1,
   "metadata": {},
   "outputs": [
    {
     "name": "stderr",
     "output_type": "stream",
     "text": [
      "Warning message:\n",
      "\"package 'quantmod' was built under R version 3.6.2\"Loading required package: xts\n",
      "Warning message:\n",
      "\"package 'xts' was built under R version 3.6.2\"Loading required package: zoo\n",
      "Warning message:\n",
      "\"package 'zoo' was built under R version 3.6.2\"\n",
      "Attaching package: 'zoo'\n",
      "\n",
      "The following objects are masked from 'package:base':\n",
      "\n",
      "    as.Date, as.Date.numeric\n",
      "\n",
      "Loading required package: TTR\n",
      "Warning message:\n",
      "\"package 'TTR' was built under R version 3.6.2\"Registered S3 method overwritten by 'quantmod':\n",
      "  method            from\n",
      "  as.zoo.data.frame zoo \n",
      "Version 0.4-0 included new data defaults. See ?getSymbols.\n",
      "'getSymbols' currently uses auto.assign=TRUE by default, but will\n",
      "use auto.assign=FALSE in 0.5-0. You will still be able to use\n",
      "'loadSymbols' to automatically load data. getOption(\"getSymbols.env\")\n",
      "and getOption(\"getSymbols.auto.assign\") will still be checked for\n",
      "alternate defaults.\n",
      "\n",
      "This message is shown once per session and may be disabled by setting \n",
      "options(\"getSymbols.warning4.0\"=FALSE). See ?getSymbols for details.\n",
      "\n"
     ]
    },
    {
     "data": {
      "text/html": [
       "'NAEXKP01PTA657S'"
      ],
      "text/latex": [
       "'NAEXKP01PTA657S'"
      ],
      "text/markdown": [
       "'NAEXKP01PTA657S'"
      ],
      "text/plain": [
       "[1] \"NAEXKP01PTA657S\""
      ]
     },
     "metadata": {},
     "output_type": "display_data"
    },
    {
     "data": {
      "image/png": "[encoded data removed]",
      "text/plain": [
       "Plot with title \"Portuguese GDP Growth Rate - 1996 to 2018\""
      ]
     },
     "metadata": {},
     "output_type": "display_data"
    }
   ],
   "source": [
    "library(quantmod)\n",
    "\n",
    "getSymbols(\"NAEXKP01PTA657S\", src= \"FRED\")\n",
    "GDP_growth = ts(as.vector(NAEXKP01PTA657S), start = 1996, deltat=1)\n",
    "plot(GDP_growth,main=\"Portuguese GDP Growth Rate - 1996 to 2018\", xlab=\"years\", ylab=\"Growth Rate\")\n",
    "abline(h=0, col=\"red\")"
   ]
  },
  {
   "cell_type": "markdown",
   "metadata": {},
   "source": [
    "The time series does appear to be stationary, as it revolves around a mean of (seemingly) 0. However, being sure just by looking at a plot is unwise. This is just a first approximation. Further testing would need to be done to conclude with certainty."
   ]
  },
  {
   "cell_type": "markdown",
   "metadata": {},
   "source": [
    "# b)"
   ]
  },
  {
   "cell_type": "markdown",
   "metadata": {},
   "source": [
    "To do this, we follow the Box-Jenkins methodology.\n",
    "\n",
    "Step 1 - Stationarity"
   ]
  },
  {
   "cell_type": "code",
   "execution_count": 21,
   "metadata": {},
   "outputs": [
    {
     "data": {
      "image/png": "[encoded data removed]",
      "text/plain": [
       "Plot with title \"Series  GDP_growth\""
      ]
     },
     "metadata": {},
     "output_type": "display_data"
    }
   ],
   "source": [
    "acf(GDP_growth)"
   ]
  },
  {
   "cell_type": "markdown",
   "metadata": {},
   "source": [
    "The series looks stationary, as there is a decay in autocorrelation. It starts to pick up again after the 10th lag, but it is still \"within boundaries\" - within our confidence interval. So, I conclude the series to look stationary.\n",
    "\n",
    "Step 2 - ARMA Identification\n",
    "\n",
    "Since we are attempting to identify an ARMA model, we can't resort to ACF or PACF - Information Criterias are the best tool. The use of AIC is preferred in small samples, and that is what I will use."
   ]
  },
  {
   "cell_type": "code",
   "execution_count": 22,
   "metadata": {},
   "outputs": [
    {
     "name": "stderr",
     "output_type": "stream",
     "text": [
      "Warning message in arima(GDP_growth, order = c(i - 1, 0, j - 1)):\n",
      "\"possible convergence problem: optim gave code = 1\"Warning message in arima(GDP_growth, order = c(i - 1, 0, j - 1)):\n",
      "\"possible convergence problem: optim gave code = 1\""
     ]
    },
    {
     "data": {
      "text/html": [
       "<table>\n",
       "<thead><tr><th></th><th scope=col>q= 0</th><th scope=col>q= 1</th><th scope=col>q= 2</th><th scope=col>q= 3</th><th scope=col>q= 4</th><th scope=col>q= 5</th><th scope=col>q= 6</th><th scope=col>q= 7</th></tr></thead>\n",
       "<tbody>\n",
       "\t<tr><th scope=row>p= 0</th><td>106.88282</td><td>101.1851 </td><td>102.4924 </td><td>102.2526 </td><td>101.2937 </td><td>103.1562 </td><td>105.0450 </td><td>106.8340 </td></tr>\n",
       "\t<tr><th scope=row>p= 1</th><td> 99.38727</td><td>101.3013 </td><td>103.1819 </td><td>102.9473 </td><td>103.0645 </td><td>104.0114 </td><td>106.9995 </td><td>106.2960 </td></tr>\n",
       "\t<tr><th scope=row>p= 2</th><td>101.33754</td><td>103.3088 </td><td>104.9263 </td><td>102.6937 </td><td>105.0346 </td><td>105.0242 </td><td>107.9715 </td><td>107.4865 </td></tr>\n",
       "\t<tr><th scope=row>p= 3</th><td>102.71758</td><td>104.3322 </td><td>104.1788 </td><td>106.0303 </td><td>107.0331 </td><td>106.3402 </td><td>108.3383 </td><td>109.4846 </td></tr>\n",
       "\t<tr><th scope=row>p= 4</th><td>103.02052</td><td>104.3580 </td><td>104.0448 </td><td>105.9807 </td><td>106.5687 </td><td>108.4797 </td><td>109.1269 </td><td>111.2207 </td></tr>\n",
       "\t<tr><th scope=row>p= 5</th><td>103.44346</td><td>104.9340 </td><td>106.9126 </td><td>108.8148 </td><td>108.3502 </td><td>110.3231 </td><td>110.2968 </td><td>113.0670 </td></tr>\n",
       "\t<tr><th scope=row>p= 6</th><td>104.84895</td><td>106.8212 </td><td>106.1679 </td><td>107.5368 </td><td>109.4508 </td><td>113.0488 </td><td>115.0418 </td><td>114.9552 </td></tr>\n",
       "\t<tr><th scope=row>p= 7</th><td>106.83414</td><td>108.8411 </td><td>110.7859 </td><td>109.4301 </td><td>110.5694 </td><td>112.3704 </td><td>115.5965 </td><td>116.7457 </td></tr>\n",
       "</tbody>\n",
       "</table>\n"
      ],
      "text/latex": [
       "\\begin{tabular}{r|llllllll}\n",
       "  & q= 0 & q= 1 & q= 2 & q= 3 & q= 4 & q= 5 & q= 6 & q= 7\\\\\n",
       "\\hline\n",
       "\tp= 0 & 106.88282 & 101.1851  & 102.4924  & 102.2526  & 101.2937  & 103.1562  & 105.0450  & 106.8340 \\\\\n",
       "\tp= 1 &  99.38727 & 101.3013  & 103.1819  & 102.9473  & 103.0645  & 104.0114  & 106.9995  & 106.2960 \\\\\n",
       "\tp= 2 & 101.33754 & 103.3088  & 104.9263  & 102.6937  & 105.0346  & 105.0242  & 107.9715  & 107.4865 \\\\\n",
       "\tp= 3 & 102.71758 & 104.3322  & 104.1788  & 106.0303  & 107.0331  & 106.3402  & 108.3383  & 109.4846 \\\\\n",
       "\tp= 4 & 103.02052 & 104.3580  & 104.0448  & 105.9807  & 106.5687  & 108.4797  & 109.1269  & 111.2207 \\\\\n",
       "\tp= 5 & 103.44346 & 104.9340  & 106.9126  & 108.8148  & 108.3502  & 110.3231  & 110.2968  & 113.0670 \\\\\n",
       "\tp= 6 & 104.84895 & 106.8212  & 106.1679  & 107.5368  & 109.4508  & 113.0488  & 115.0418  & 114.9552 \\\\\n",
       "\tp= 7 & 106.83414 & 108.8411  & 110.7859  & 109.4301  & 110.5694  & 112.3704  & 115.5965  & 116.7457 \\\\\n",
       "\\end{tabular}\n"
      ],
      "text/markdown": [
       "\n",
       "| <!--/--> | q= 0 | q= 1 | q= 2 | q= 3 | q= 4 | q= 5 | q= 6 | q= 7 |\n",
       "|---|---|---|---|---|---|---|---|---|\n",
       "| p= 0 | 106.88282 | 101.1851  | 102.4924  | 102.2526  | 101.2937  | 103.1562  | 105.0450  | 106.8340  |\n",
       "| p= 1 |  99.38727 | 101.3013  | 103.1819  | 102.9473  | 103.0645  | 104.0114  | 106.9995  | 106.2960  |\n",
       "| p= 2 | 101.33754 | 103.3088  | 104.9263  | 102.6937  | 105.0346  | 105.0242  | 107.9715  | 107.4865  |\n",
       "| p= 3 | 102.71758 | 104.3322  | 104.1788  | 106.0303  | 107.0331  | 106.3402  | 108.3383  | 109.4846  |\n",
       "| p= 4 | 103.02052 | 104.3580  | 104.0448  | 105.9807  | 106.5687  | 108.4797  | 109.1269  | 111.2207  |\n",
       "| p= 5 | 103.44346 | 104.9340  | 106.9126  | 108.8148  | 108.3502  | 110.3231  | 110.2968  | 113.0670  |\n",
       "| p= 6 | 104.84895 | 106.8212  | 106.1679  | 107.5368  | 109.4508  | 113.0488  | 115.0418  | 114.9552  |\n",
       "| p= 7 | 106.83414 | 108.8411  | 110.7859  | 109.4301  | 110.5694  | 112.3704  | 115.5965  | 116.7457  |\n",
       "\n"
      ],
      "text/plain": [
       "     q= 0      q= 1     q= 2     q= 3     q= 4     q= 5     q= 6     q= 7    \n",
       "p= 0 106.88282 101.1851 102.4924 102.2526 101.2937 103.1562 105.0450 106.8340\n",
       "p= 1  99.38727 101.3013 103.1819 102.9473 103.0645 104.0114 106.9995 106.2960\n",
       "p= 2 101.33754 103.3088 104.9263 102.6937 105.0346 105.0242 107.9715 107.4865\n",
       "p= 3 102.71758 104.3322 104.1788 106.0303 107.0331 106.3402 108.3383 109.4846\n",
       "p= 4 103.02052 104.3580 104.0448 105.9807 106.5687 108.4797 109.1269 111.2207\n",
       "p= 5 103.44346 104.9340 106.9126 108.8148 108.3502 110.3231 110.2968 113.0670\n",
       "p= 6 104.84895 106.8212 106.1679 107.5368 109.4508 113.0488 115.0418 114.9552\n",
       "p= 7 106.83414 108.8411 110.7859 109.4301 110.5694 112.3704 115.5965 116.7457"
      ]
     },
     "metadata": {},
     "output_type": "display_data"
    },
    {
     "data": {
      "text/html": [
       "<table>\n",
       "<thead><tr><th></th><th scope=col>q= 0</th><th scope=col>q= 1</th><th scope=col>q= 2</th><th scope=col>q= 3</th><th scope=col>q= 4</th><th scope=col>q= 5</th><th scope=col>q= 6</th><th scope=col>q= 7</th></tr></thead>\n",
       "<tbody>\n",
       "\t<tr><th scope=row>p= 0</th><td>FALSE</td><td>FALSE</td><td>FALSE</td><td>FALSE</td><td>FALSE</td><td>FALSE</td><td>FALSE</td><td>FALSE</td></tr>\n",
       "\t<tr><th scope=row>p= 1</th><td> TRUE</td><td>FALSE</td><td>FALSE</td><td>FALSE</td><td>FALSE</td><td>FALSE</td><td>FALSE</td><td>FALSE</td></tr>\n",
       "\t<tr><th scope=row>p= 2</th><td>FALSE</td><td>FALSE</td><td>FALSE</td><td>FALSE</td><td>FALSE</td><td>FALSE</td><td>FALSE</td><td>FALSE</td></tr>\n",
       "\t<tr><th scope=row>p= 3</th><td>FALSE</td><td>FALSE</td><td>FALSE</td><td>FALSE</td><td>FALSE</td><td>FALSE</td><td>FALSE</td><td>FALSE</td></tr>\n",
       "\t<tr><th scope=row>p= 4</th><td>FALSE</td><td>FALSE</td><td>FALSE</td><td>FALSE</td><td>FALSE</td><td>FALSE</td><td>FALSE</td><td>FALSE</td></tr>\n",
       "\t<tr><th scope=row>p= 5</th><td>FALSE</td><td>FALSE</td><td>FALSE</td><td>FALSE</td><td>FALSE</td><td>FALSE</td><td>FALSE</td><td>FALSE</td></tr>\n",
       "\t<tr><th scope=row>p= 6</th><td>FALSE</td><td>FALSE</td><td>FALSE</td><td>FALSE</td><td>FALSE</td><td>FALSE</td><td>FALSE</td><td>FALSE</td></tr>\n",
       "\t<tr><th scope=row>p= 7</th><td>FALSE</td><td>FALSE</td><td>FALSE</td><td>FALSE</td><td>FALSE</td><td>FALSE</td><td>FALSE</td><td>FALSE</td></tr>\n",
       "</tbody>\n",
       "</table>\n"
      ],
      "text/latex": [
       "\\begin{tabular}{r|llllllll}\n",
       "  & q= 0 & q= 1 & q= 2 & q= 3 & q= 4 & q= 5 & q= 6 & q= 7\\\\\n",
       "\\hline\n",
       "\tp= 0 & FALSE & FALSE & FALSE & FALSE & FALSE & FALSE & FALSE & FALSE\\\\\n",
       "\tp= 1 &  TRUE & FALSE & FALSE & FALSE & FALSE & FALSE & FALSE & FALSE\\\\\n",
       "\tp= 2 & FALSE & FALSE & FALSE & FALSE & FALSE & FALSE & FALSE & FALSE\\\\\n",
       "\tp= 3 & FALSE & FALSE & FALSE & FALSE & FALSE & FALSE & FALSE & FALSE\\\\\n",
       "\tp= 4 & FALSE & FALSE & FALSE & FALSE & FALSE & FALSE & FALSE & FALSE\\\\\n",
       "\tp= 5 & FALSE & FALSE & FALSE & FALSE & FALSE & FALSE & FALSE & FALSE\\\\\n",
       "\tp= 6 & FALSE & FALSE & FALSE & FALSE & FALSE & FALSE & FALSE & FALSE\\\\\n",
       "\tp= 7 & FALSE & FALSE & FALSE & FALSE & FALSE & FALSE & FALSE & FALSE\\\\\n",
       "\\end{tabular}\n"
      ],
      "text/markdown": [
       "\n",
       "| <!--/--> | q= 0 | q= 1 | q= 2 | q= 3 | q= 4 | q= 5 | q= 6 | q= 7 |\n",
       "|---|---|---|---|---|---|---|---|---|\n",
       "| p= 0 | FALSE | FALSE | FALSE | FALSE | FALSE | FALSE | FALSE | FALSE |\n",
       "| p= 1 |  TRUE | FALSE | FALSE | FALSE | FALSE | FALSE | FALSE | FALSE |\n",
       "| p= 2 | FALSE | FALSE | FALSE | FALSE | FALSE | FALSE | FALSE | FALSE |\n",
       "| p= 3 | FALSE | FALSE | FALSE | FALSE | FALSE | FALSE | FALSE | FALSE |\n",
       "| p= 4 | FALSE | FALSE | FALSE | FALSE | FALSE | FALSE | FALSE | FALSE |\n",
       "| p= 5 | FALSE | FALSE | FALSE | FALSE | FALSE | FALSE | FALSE | FALSE |\n",
       "| p= 6 | FALSE | FALSE | FALSE | FALSE | FALSE | FALSE | FALSE | FALSE |\n",
       "| p= 7 | FALSE | FALSE | FALSE | FALSE | FALSE | FALSE | FALSE | FALSE |\n",
       "\n"
      ],
      "text/plain": [
       "     q= 0  q= 1  q= 2  q= 3  q= 4  q= 5  q= 6  q= 7 \n",
       "p= 0 FALSE FALSE FALSE FALSE FALSE FALSE FALSE FALSE\n",
       "p= 1  TRUE FALSE FALSE FALSE FALSE FALSE FALSE FALSE\n",
       "p= 2 FALSE FALSE FALSE FALSE FALSE FALSE FALSE FALSE\n",
       "p= 3 FALSE FALSE FALSE FALSE FALSE FALSE FALSE FALSE\n",
       "p= 4 FALSE FALSE FALSE FALSE FALSE FALSE FALSE FALSE\n",
       "p= 5 FALSE FALSE FALSE FALSE FALSE FALSE FALSE FALSE\n",
       "p= 6 FALSE FALSE FALSE FALSE FALSE FALSE FALSE FALSE\n",
       "p= 7 FALSE FALSE FALSE FALSE FALSE FALSE FALSE FALSE"
      ]
     },
     "metadata": {},
     "output_type": "display_data"
    }
   ],
   "source": [
    "AIC = matrix(nrow=8, ncol=8,dimnames=list(c(paste(\"p=\",0:7)),(c(paste(\"q=\",0:7)))))\n",
    "\n",
    "for(i in 1:nrow(AIC)) {\n",
    "  for(j in 1:ncol(AIC)) {\n",
    "    AIC[i, j] = arima(GDP_growth, order=c(i-1,0,j-1))$aic\n",
    "  }\n",
    "}\n",
    "\n",
    "\n",
    "AIC\n",
    "\n",
    "\n",
    "AIC == min(AIC)"
   ]
  },
  {
   "cell_type": "markdown",
   "metadata": {},
   "source": [
    "Following this strategy, we conclude for an ARMA(1,0) model - an AR(1) model. Just to be sure, I will run another way to check this below, using the auto.arima()."
   ]
  },
  {
   "cell_type": "code",
   "execution_count": 23,
   "metadata": {},
   "outputs": [
    {
     "data": {
      "text/plain": [
       "Series: GDP_growth \n",
       "ARIMA(1,0,0) with zero mean \n",
       "\n",
       "Coefficients:\n",
       "         ar1\n",
       "      0.7002\n",
       "s.e.  0.1494\n",
       "\n",
       "sigma^2 estimated as 3.834:  log likelihood=-47.92\n",
       "AIC=99.83   AICc=100.43   BIC=102.11"
      ]
     },
     "metadata": {},
     "output_type": "display_data"
    }
   ],
   "source": [
    "library(forecast)\n",
    "arima= auto.arima(GDP_growth)\n",
    "arima"
   ]
  },
  {
   "cell_type": "markdown",
   "metadata": {},
   "source": [
    "This method equals the same results as the previous one. So, I conclude with certainty that the series is stationary and ARMA(1,0,0), which is the same as AR(1)."
   ]
  },
  {
   "cell_type": "markdown",
   "metadata": {},
   "source": [
    "# c)"
   ]
  },
  {
   "cell_type": "code",
   "execution_count": 24,
   "metadata": {
    "scrolled": true
   },
   "outputs": [
    {
     "data": {
      "text/plain": [
       "\n",
       "Call:\n",
       "arima(x = GDP_growth, order = c(1, 0, 0))\n",
       "\n",
       "Coefficients:\n",
       "         ar1  intercept\n",
       "      0.5815     1.5514\n",
       "s.e.  0.1651     0.8657\n",
       "\n",
       "sigma^2 estimated as 3.335:  log likelihood = -46.69,  aic = 99.39"
      ]
     },
     "metadata": {},
     "output_type": "display_data"
    }
   ],
   "source": [
    "arma1= arima(GDP_growth, order=c(1,0,0))\n",
    "arma1"
   ]
  },
  {
   "cell_type": "markdown",
   "metadata": {},
   "source": [
    "The model we are presented with can be written roughly like this: $y_t$= 1.5514 + 0.5815$y_{t-1}$+ $\\epsilon_t$\n",
    "\n",
    "(Note: apologies for my less than good LaTeX expertise)\n",
    "\n",
    "Since we are looking at an AR(1) model, it is pretty easy to conclude the estimated model is stable just looking ath the coefficient for ar1. It is 0.5815, and the condition for stability is that this parameter is |θ|<1. |0.5815| <1, so the model is stable. It does not have an explosive growth.\n",
    "\n"
   ]
  },
  {
   "cell_type": "markdown",
   "metadata": {},
   "source": [
    "# d)"
   ]
  },
  {
   "cell_type": "markdown",
   "metadata": {},
   "source": [
    "To check the model, we use the Ljung-Box test.\n",
    "\n",
    "For this test, the hypothesis are as follows:\n",
    "\n",
    "H$_0$: No serial correlation of the error terms\n",
    "<br>\n",
    "H$_1$: Serial correlation of the error terms"
   ]
  },
  {
   "cell_type": "code",
   "execution_count": 25,
   "metadata": {},
   "outputs": [
    {
     "data": {
      "text/plain": [
       "\n",
       "\tBox-Ljung test\n",
       "\n",
       "data:  arma1$residuals\n",
       "X-squared = 15.199, df = 22, p-value = 0.8535\n"
      ]
     },
     "metadata": {},
     "output_type": "display_data"
    },
    {
     "data": {
      "image/png": "[encoded data removed]",
      "text/plain": [
       "Plot with title \"Series  arma1$residuals\""
      ]
     },
     "metadata": {},
     "output_type": "display_data"
    }
   ],
   "source": [
    "acf(arma1$residuals)\n",
    "Box.test(arma1$residuals, lag=22, type='Ljung')"
   ]
  },
  {
   "cell_type": "markdown",
   "metadata": {},
   "source": [
    "The ACF does not show significant autocorrelation in the residuals for any lag length considered. The Ljung-Box test returns a p-value of 0.8535, meaning we do not reject the null hypothesis of no autocorrelation. \n",
    "\n",
    "Given this, I conclude the model to be a valid model, properly estimated."
   ]
  },
  {
   "cell_type": "markdown",
   "metadata": {},
   "source": [
    "# e)"
   ]
  },
  {
   "cell_type": "code",
   "execution_count": 29,
   "metadata": {
    "scrolled": false
   },
   "outputs": [
    {
     "data": {
      "text/plain": [
       "     Point Forecast      Lo 80    Hi 80     Lo 95    Hi 95\n",
       "2019       2.068844 -0.2715506 4.409238 -1.510481 5.648168\n",
       "2020       1.852284 -0.8550293 4.559598 -2.288194 5.992763"
      ]
     },
     "metadata": {},
     "output_type": "display_data"
    },
    {
     "data": {
      "image/png": "[encoded data removed]",
      "text/plain": [
       "Plot with title \"Forecasts from ARIMA(1,0,0) with non-zero mean\""
      ]
     },
     "metadata": {},
     "output_type": "display_data"
    }
   ],
   "source": [
    "forecast(arma1, h=2)\n",
    "plot(forecast(arma1, h=2))"
   ]
  },
  {
   "cell_type": "markdown",
   "metadata": {},
   "source": [
    "(Note: This doesn't look good, graphically speaking, but I couldn't get it to look any nicer. But I did forecast 2019 and 2020.)"
   ]
  },
  {
   "cell_type": "code",
   "execution_count": 30,
   "metadata": {},
   "outputs": [
    {
     "data": {
      "text/plain": [
       "     Point Forecast      Lo 80    Hi 80     Lo 95    Hi 95\n",
       "2019       2.068844 -0.2715506 4.409238 -1.510481 5.648168\n",
       "2020       1.852284 -0.8550293 4.559598 -2.288194 5.992763"
      ]
     },
     "metadata": {},
     "output_type": "display_data"
    }
   ],
   "source": [
    "forecast(arma1, h=2)"
   ]
  },
  {
   "cell_type": "markdown",
   "metadata": {},
   "source": [
    "Bank of Portugal official Forecasts:\n",
    "<br>\n",
    "2019: 2.0%\n",
    "<br>\n",
    "2020: 1.7%"
   ]
  },
  {
   "cell_type": "markdown",
   "metadata": {},
   "source": [
    "My forecast is better for 2019 than it is for 2020. However, forecasts are always better the closest we are to the period being forecasted - as can be seen by the smaller variance for the 2019 estimate.\n",
    "\n",
    "\n",
    "Below I plot my forecasts with the predictions for 2019 and 2020 for a better graphical view."
   ]
  },
  {
   "cell_type": "code",
   "execution_count": 41,
   "metadata": {},
   "outputs": [
    {
     "data": {
      "image/png": "[encoded data removed]",
      "text/plain": [
       "Plot with title \"Forecasts from ARIMA(1,0,0) with non-zero mean\""
      ]
     },
     "metadata": {},
     "output_type": "display_data"
    }
   ],
   "source": [
    "plot(forecast(arma1, h=2))\n",
    "abline(h=2, col=\"red\")\n",
    "text(1998,2.4, \"2019 BdP\", col = \"red\")\n",
    "abline(h=1.7, col=\"blue\")\n",
    "text(1998,1.4, \"2020 BdP\", col = \"blue\")"
   ]
  }
 ],
 "metadata": {
  "kernelspec": {
   "display_name": "R",
   "language": "R",
   "name": "ir"
  },
  "language_info": {
   "codemirror_mode": "r",
   "file_extension": ".r",
   "mimetype": "text/x-r-source",
   "name": "R",
   "pygments_lexer": "r",
   "version": "3.6.1"
  }
 },
 "nbformat": 4,
 "nbformat_minor": 2
}
