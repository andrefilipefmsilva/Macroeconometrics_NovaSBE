{
 "cells": [
  {
   "cell_type": "markdown",
   "metadata": {},
   "source": [
    "# Exercise 4 Answer\n",
    "\n",
    "## André Filipe Silva - 26005"
   ]
  },
  {
   "cell_type": "code",
   "execution_count": 5,
   "metadata": {},
   "outputs": [],
   "source": [
    "library(readxl)\n",
    "data4=read_xlsx(\"C:\\\\Users\\\\Casa\\\\OneDrive\\\\Documentos\\\\Economia Nova SBE\\\\1st year\\\\2º Semestre\\\\Macroeconometrics\\\\Midterm 2020\\\\data_midterm_2020.xlsx\")"
   ]
  },
  {
   "cell_type": "markdown",
   "metadata": {},
   "source": [
    "### Exercise 4a)"
   ]
  },
  {
   "cell_type": "code",
   "execution_count": 3,
   "metadata": {},
   "outputs": [],
   "source": [
    "data4a= data4[,-1]\n",
    "data4a= ts(data4a, start=1995, deltat=1/4)\n",
    "data4a=(log(data4a))*100\n",
    "data4a=diff(data4a)\n",
    "data4a=data4a[,c(3,5,2,4,1)]"
   ]
  },
  {
   "cell_type": "markdown",
   "metadata": {},
   "source": [
    "### Exercise 4b)"
   ]
  },
  {
   "cell_type": "code",
   "execution_count": 6,
   "metadata": {},
   "outputs": [
    {
     "data": {
      "text/plain": [
       "$G\n",
       "\n",
       "Call:\n",
       "lm(formula = y ~ -1 + ., data = datamat)\n",
       "\n",
       "Coefficients:\n",
       "      G.l1      TAX.l1        C.l1        I.l1      GDP.l1       const  \n",
       " 0.7124941  -0.0472943  -0.0043900  -0.0005135   0.1532462   0.0414858  \n",
       "\n",
       "\n",
       "$TAX\n",
       "\n",
       "Call:\n",
       "lm(formula = y ~ -1 + ., data = datamat)\n",
       "\n",
       "Coefficients:\n",
       "   G.l1   TAX.l1     C.l1     I.l1   GDP.l1    const  \n",
       " 0.5423  -0.4282   0.4370   0.1319   0.8086  -0.1257  \n",
       "\n",
       "\n",
       "$C\n",
       "\n",
       "Call:\n",
       "lm(formula = y ~ -1 + ., data = datamat)\n",
       "\n",
       "Coefficients:\n",
       "    G.l1    TAX.l1      C.l1      I.l1    GDP.l1     const  \n",
       " 0.33309  -0.05332  -0.22690   0.06211   0.50339   0.16320  \n",
       "\n",
       "\n",
       "$I\n",
       "\n",
       "Call:\n",
       "lm(formula = y ~ -1 + ., data = datamat)\n",
       "\n",
       "Coefficients:\n",
       "   G.l1   TAX.l1     C.l1     I.l1   GDP.l1    const  \n",
       " 0.1092  -0.2770   0.3371  -0.3155   2.6463  -0.7990  \n",
       "\n",
       "\n",
       "$GDP\n",
       "\n",
       "Call:\n",
       "lm(formula = y ~ -1 + ., data = datamat)\n",
       "\n",
       "Coefficients:\n",
       "    G.l1    TAX.l1      C.l1      I.l1    GDP.l1     const  \n",
       " 0.22873  -0.06981  -0.02813   0.04883   0.38078   0.16897  \n",
       "\n"
      ]
     },
     "metadata": {},
     "output_type": "display_data"
    }
   ],
   "source": [
    "library(vars)\n",
    "library(tseries)\n",
    "var1= VAR(data4a[,1:5], lag.max=12, ic=\"SC\")\n",
    "var1$varresult"
   ]
  },
  {
   "cell_type": "code",
   "execution_count": 8,
   "metadata": {},
   "outputs": [
    {
     "name": "stderr",
     "output_type": "stream",
     "text": [
      "Warning message in adf.test(residuals(var1)[, 1]):\n",
      "\"p-value smaller than printed p-value\""
     ]
    },
    {
     "data": {
      "text/plain": [
       "\n",
       "\tAugmented Dickey-Fuller Test\n",
       "\n",
       "data:  residuals(var1)[, 1]\n",
       "Dickey-Fuller = -4.5667, Lag order = 4, p-value = 0.01\n",
       "alternative hypothesis: stationary\n"
      ]
     },
     "metadata": {},
     "output_type": "display_data"
    }
   ],
   "source": [
    "adf.test(residuals(var1)[,1])"
   ]
  },
  {
   "cell_type": "markdown",
   "metadata": {},
   "source": [
    "We reject the null hypothesis, so the residuals for G are stationary at a 5% significance level."
   ]
  },
  {
   "cell_type": "code",
   "execution_count": 9,
   "metadata": {},
   "outputs": [
    {
     "name": "stderr",
     "output_type": "stream",
     "text": [
      "Warning message in adf.test(residuals(var1)[, 2]):\n",
      "\"p-value smaller than printed p-value\""
     ]
    },
    {
     "data": {
      "text/plain": [
       "\n",
       "\tAugmented Dickey-Fuller Test\n",
       "\n",
       "data:  residuals(var1)[, 2]\n",
       "Dickey-Fuller = -4.2466, Lag order = 4, p-value = 0.01\n",
       "alternative hypothesis: stationary\n"
      ]
     },
     "metadata": {},
     "output_type": "display_data"
    }
   ],
   "source": [
    "adf.test(residuals(var1)[,2])"
   ]
  },
  {
   "cell_type": "markdown",
   "metadata": {},
   "source": [
    "The residuals for TAX are also stationary at a 5% significance level."
   ]
  },
  {
   "cell_type": "code",
   "execution_count": 10,
   "metadata": {},
   "outputs": [
    {
     "data": {
      "text/plain": [
       "\n",
       "\tAugmented Dickey-Fuller Test\n",
       "\n",
       "data:  residuals(var1)[, 3]\n",
       "Dickey-Fuller = -3.523, Lag order = 4, p-value = 0.04377\n",
       "alternative hypothesis: stationary\n"
      ]
     },
     "metadata": {},
     "output_type": "display_data"
    }
   ],
   "source": [
    "adf.test(residuals(var1)[,3])"
   ]
  },
  {
   "cell_type": "markdown",
   "metadata": {},
   "source": [
    "Residuals for C are also stationary at a 5% significance level - but they wouldn't be at a 1% significance level."
   ]
  },
  {
   "cell_type": "code",
   "execution_count": 11,
   "metadata": {},
   "outputs": [
    {
     "data": {
      "text/plain": [
       "\n",
       "\tAugmented Dickey-Fuller Test\n",
       "\n",
       "data:  residuals(var1)[, 4]\n",
       "Dickey-Fuller = -3.7437, Lag order = 4, p-value = 0.02454\n",
       "alternative hypothesis: stationary\n"
      ]
     },
     "metadata": {},
     "output_type": "display_data"
    }
   ],
   "source": [
    "adf.test(residuals(var1)[,4])"
   ]
  },
  {
   "cell_type": "markdown",
   "metadata": {},
   "source": [
    "Again, residuals for I are stationary at a 5% significance level, but wouldn't be at a 1% significance level."
   ]
  },
  {
   "cell_type": "code",
   "execution_count": 13,
   "metadata": {},
   "outputs": [
    {
     "data": {
      "text/plain": [
       "\n",
       "\tAugmented Dickey-Fuller Test\n",
       "\n",
       "data:  residuals(var1)[, 5]\n",
       "Dickey-Fuller = -3.7606, Lag order = 4, p-value = 0.02373\n",
       "alternative hypothesis: stationary\n"
      ]
     },
     "metadata": {},
     "output_type": "display_data"
    }
   ],
   "source": [
    "adf.test(residuals(var1)[,5])"
   ]
  },
  {
   "cell_type": "markdown",
   "metadata": {},
   "source": [
    "Residuals for GDP are also stationary at a 5% significance level - but wouldn't be at a 1% level."
   ]
  },
  {
   "cell_type": "markdown",
   "metadata": {},
   "source": [
    "All of our residuals series are stationary. This means our VAR model is adequate for understanding dynamics among the variables. This is all that is necessary for IRFs (which is what comes next in the questions). \n",
    "\n",
    "However, if we were concerned with hypothesis testing, we would need stationarity not only on the residuals, but on the full model."
   ]
  },
  {
   "cell_type": "markdown",
   "metadata": {},
   "source": [
    "### Exercise 4c)"
   ]
  },
  {
   "cell_type": "markdown",
   "metadata": {},
   "source": [
    "Note: Even if we did not have stationarity, IRFs would still be viable.\n",
    "\n",
    "20 steps ahead means 5 years ahead since we have quarterly data."
   ]
  },
  {
   "cell_type": "code",
   "execution_count": 13,
   "metadata": {},
   "outputs": [
    {
     "data": {
      "text/html": [
       "<table>\n",
       "<thead><tr><th scope=col>G</th><th scope=col>TAX</th><th scope=col>C</th><th scope=col>I</th><th scope=col>GDP</th></tr></thead>\n",
       "<tbody>\n",
       "\t<tr><td>0.4873708532</td><td>0.455660968 </td><td>0.1349622926</td><td>0.808932727 </td><td>0.1380277720</td></tr>\n",
       "\t<tr><td>0.3458430714</td><td>0.346469222 </td><td>0.2271459131</td><td>0.082524015 </td><td>0.1679256933</td></tr>\n",
       "\t<tr><td>0.2547195863</td><td>0.285148518 </td><td>0.1348416898</td><td>0.436713201 </td><td>0.1164989194</td></tr>\n",
       "\t<tr><td>0.1850371277</td><td>0.226762352 </td><td>0.1248145598</td><td>0.164784067 </td><td>0.1002460653</td></tr>\n",
       "\t<tr><td>0.1358430867</td><td>0.160591681 </td><td>0.0819206928</td><td>0.212758047 </td><td>0.0691991816</td></tr>\n",
       "\t<tr><td>0.0993279645</td><td>0.124719837 </td><td>0.0661465374</td><td>0.113958574 </td><td>0.0542937263</td></tr>\n",
       "\t<tr><td>0.0728434655</td><td>0.088302564 </td><td>0.0458356355</td><td>0.106319242 </td><td>0.0383897852</td></tr>\n",
       "\t<tr><td>0.0533516121</td><td>0.066788458 </td><td>0.0350838283</td><td>0.066991315 </td><td>0.0290168426</td></tr>\n",
       "\t<tr><td>0.0391123025</td><td>0.047965865 </td><td>0.0250170051</td><td>0.054802886 </td><td>0.0208735554</td></tr>\n",
       "\t<tr><td>0.0286596028</td><td>0.035711545 </td><td>0.0187055077</td><td>0.037364261 </td><td>0.0155179136</td></tr>\n",
       "\t<tr><td>0.0210076051</td><td>0.025901480 </td><td>0.0135301636</td><td>0.028819227 </td><td>0.0112693108</td></tr>\n",
       "\t<tr><td>0.0153955869</td><td>0.019128090 </td><td>0.0100092583</td><td>0.020409400 </td><td>0.0083145073</td></tr>\n",
       "\t<tr><td>0.0112843622</td><td>0.013947851 </td><td>0.0072902271</td><td>0.015320043 </td><td>0.0060670219</td></tr>\n",
       "\t<tr><td>0.0082702656</td><td>0.010259588 </td><td>0.0053665025</td><td>0.011047682 </td><td>0.0044604978</td></tr>\n",
       "\t<tr><td>0.0060616184</td><td>0.007501084 </td><td>0.0039216128</td><td>0.008188358 </td><td>0.0032623452</td></tr>\n",
       "\t<tr><td>0.0044426307</td><td>0.005507089 </td><td>0.0028801251</td><td>0.005955695 </td><td>0.0023945392</td></tr>\n",
       "\t<tr><td>0.0032561466</td><td>0.004031586 </td><td>0.0021079685</td><td>0.004388118 </td><td>0.0017532733</td></tr>\n",
       "\t<tr><td>0.0023864897</td><td>0.002957218 </td><td>0.0015464655</td><td>0.003204586 </td><td>0.0012858967</td></tr>\n",
       "\t<tr><td>0.0017491247</td><td>0.002166226 </td><td>0.0011326968</td><td>0.002354541 </td><td>0.0009420233</td></tr>\n",
       "\t<tr><td>0.0012819709</td><td>0.001588279 </td><td>0.0008305557</td><td>0.001722774 </td><td>0.0006906539</td></tr>\n",
       "\t<tr><td>0.0009395896</td><td>0.001163786 </td><td>0.0006085459</td><td>0.001264134 </td><td>0.0005060852</td></tr>\n",
       "</tbody>\n",
       "</table>\n"
      ],
      "text/latex": [
       "\\begin{tabular}{lllll}\n",
       " G & TAX & C & I & GDP\\\\\n",
       "\\hline\n",
       "\t 0.4873708532 & 0.455660968  & 0.1349622926 & 0.808932727  & 0.1380277720\\\\\n",
       "\t 0.3458430714 & 0.346469222  & 0.2271459131 & 0.082524015  & 0.1679256933\\\\\n",
       "\t 0.2547195863 & 0.285148518  & 0.1348416898 & 0.436713201  & 0.1164989194\\\\\n",
       "\t 0.1850371277 & 0.226762352  & 0.1248145598 & 0.164784067  & 0.1002460653\\\\\n",
       "\t 0.1358430867 & 0.160591681  & 0.0819206928 & 0.212758047  & 0.0691991816\\\\\n",
       "\t 0.0993279645 & 0.124719837  & 0.0661465374 & 0.113958574  & 0.0542937263\\\\\n",
       "\t 0.0728434655 & 0.088302564  & 0.0458356355 & 0.106319242  & 0.0383897852\\\\\n",
       "\t 0.0533516121 & 0.066788458  & 0.0350838283 & 0.066991315  & 0.0290168426\\\\\n",
       "\t 0.0391123025 & 0.047965865  & 0.0250170051 & 0.054802886  & 0.0208735554\\\\\n",
       "\t 0.0286596028 & 0.035711545  & 0.0187055077 & 0.037364261  & 0.0155179136\\\\\n",
       "\t 0.0210076051 & 0.025901480  & 0.0135301636 & 0.028819227  & 0.0112693108\\\\\n",
       "\t 0.0153955869 & 0.019128090  & 0.0100092583 & 0.020409400  & 0.0083145073\\\\\n",
       "\t 0.0112843622 & 0.013947851  & 0.0072902271 & 0.015320043  & 0.0060670219\\\\\n",
       "\t 0.0082702656 & 0.010259588  & 0.0053665025 & 0.011047682  & 0.0044604978\\\\\n",
       "\t 0.0060616184 & 0.007501084  & 0.0039216128 & 0.008188358  & 0.0032623452\\\\\n",
       "\t 0.0044426307 & 0.005507089  & 0.0028801251 & 0.005955695  & 0.0023945392\\\\\n",
       "\t 0.0032561466 & 0.004031586  & 0.0021079685 & 0.004388118  & 0.0017532733\\\\\n",
       "\t 0.0023864897 & 0.002957218  & 0.0015464655 & 0.003204586  & 0.0012858967\\\\\n",
       "\t 0.0017491247 & 0.002166226  & 0.0011326968 & 0.002354541  & 0.0009420233\\\\\n",
       "\t 0.0012819709 & 0.001588279  & 0.0008305557 & 0.001722774  & 0.0006906539\\\\\n",
       "\t 0.0009395896 & 0.001163786  & 0.0006085459 & 0.001264134  & 0.0005060852\\\\\n",
       "\\end{tabular}\n"
      ],
      "text/markdown": [
       "\n",
       "| G | TAX | C | I | GDP |\n",
       "|---|---|---|---|---|\n",
       "| 0.4873708532 | 0.455660968  | 0.1349622926 | 0.808932727  | 0.1380277720 |\n",
       "| 0.3458430714 | 0.346469222  | 0.2271459131 | 0.082524015  | 0.1679256933 |\n",
       "| 0.2547195863 | 0.285148518  | 0.1348416898 | 0.436713201  | 0.1164989194 |\n",
       "| 0.1850371277 | 0.226762352  | 0.1248145598 | 0.164784067  | 0.1002460653 |\n",
       "| 0.1358430867 | 0.160591681  | 0.0819206928 | 0.212758047  | 0.0691991816 |\n",
       "| 0.0993279645 | 0.124719837  | 0.0661465374 | 0.113958574  | 0.0542937263 |\n",
       "| 0.0728434655 | 0.088302564  | 0.0458356355 | 0.106319242  | 0.0383897852 |\n",
       "| 0.0533516121 | 0.066788458  | 0.0350838283 | 0.066991315  | 0.0290168426 |\n",
       "| 0.0391123025 | 0.047965865  | 0.0250170051 | 0.054802886  | 0.0208735554 |\n",
       "| 0.0286596028 | 0.035711545  | 0.0187055077 | 0.037364261  | 0.0155179136 |\n",
       "| 0.0210076051 | 0.025901480  | 0.0135301636 | 0.028819227  | 0.0112693108 |\n",
       "| 0.0153955869 | 0.019128090  | 0.0100092583 | 0.020409400  | 0.0083145073 |\n",
       "| 0.0112843622 | 0.013947851  | 0.0072902271 | 0.015320043  | 0.0060670219 |\n",
       "| 0.0082702656 | 0.010259588  | 0.0053665025 | 0.011047682  | 0.0044604978 |\n",
       "| 0.0060616184 | 0.007501084  | 0.0039216128 | 0.008188358  | 0.0032623452 |\n",
       "| 0.0044426307 | 0.005507089  | 0.0028801251 | 0.005955695  | 0.0023945392 |\n",
       "| 0.0032561466 | 0.004031586  | 0.0021079685 | 0.004388118  | 0.0017532733 |\n",
       "| 0.0023864897 | 0.002957218  | 0.0015464655 | 0.003204586  | 0.0012858967 |\n",
       "| 0.0017491247 | 0.002166226  | 0.0011326968 | 0.002354541  | 0.0009420233 |\n",
       "| 0.0012819709 | 0.001588279  | 0.0008305557 | 0.001722774  | 0.0006906539 |\n",
       "| 0.0009395896 | 0.001163786  | 0.0006085459 | 0.001264134  | 0.0005060852 |\n",
       "\n"
      ],
      "text/plain": [
       "      G            TAX         C            I           GDP         \n",
       " [1,] 0.4873708532 0.455660968 0.1349622926 0.808932727 0.1380277720\n",
       " [2,] 0.3458430714 0.346469222 0.2271459131 0.082524015 0.1679256933\n",
       " [3,] 0.2547195863 0.285148518 0.1348416898 0.436713201 0.1164989194\n",
       " [4,] 0.1850371277 0.226762352 0.1248145598 0.164784067 0.1002460653\n",
       " [5,] 0.1358430867 0.160591681 0.0819206928 0.212758047 0.0691991816\n",
       " [6,] 0.0993279645 0.124719837 0.0661465374 0.113958574 0.0542937263\n",
       " [7,] 0.0728434655 0.088302564 0.0458356355 0.106319242 0.0383897852\n",
       " [8,] 0.0533516121 0.066788458 0.0350838283 0.066991315 0.0290168426\n",
       " [9,] 0.0391123025 0.047965865 0.0250170051 0.054802886 0.0208735554\n",
       "[10,] 0.0286596028 0.035711545 0.0187055077 0.037364261 0.0155179136\n",
       "[11,] 0.0210076051 0.025901480 0.0135301636 0.028819227 0.0112693108\n",
       "[12,] 0.0153955869 0.019128090 0.0100092583 0.020409400 0.0083145073\n",
       "[13,] 0.0112843622 0.013947851 0.0072902271 0.015320043 0.0060670219\n",
       "[14,] 0.0082702656 0.010259588 0.0053665025 0.011047682 0.0044604978\n",
       "[15,] 0.0060616184 0.007501084 0.0039216128 0.008188358 0.0032623452\n",
       "[16,] 0.0044426307 0.005507089 0.0028801251 0.005955695 0.0023945392\n",
       "[17,] 0.0032561466 0.004031586 0.0021079685 0.004388118 0.0017532733\n",
       "[18,] 0.0023864897 0.002957218 0.0015464655 0.003204586 0.0012858967\n",
       "[19,] 0.0017491247 0.002166226 0.0011326968 0.002354541 0.0009420233\n",
       "[20,] 0.0012819709 0.001588279 0.0008305557 0.001722774 0.0006906539\n",
       "[21,] 0.0009395896 0.001163786 0.0006085459 0.001264134 0.0005060852"
      ]
     },
     "metadata": {},
     "output_type": "display_data"
    }
   ],
   "source": [
    "irf1=irf(var1, n.ahead=20, ci=0.95, runs=100)\n",
    "irf1$irf$G\n"
   ]
  },
  {
   "cell_type": "code",
   "execution_count": 14,
   "metadata": {},
   "outputs": [
    {
     "data": {
      "image/png": "[encoded data removed]",
      "text/plain": [
       "Plot with title \"Orthogonal Impulse Response from G\""
      ]
     },
     "metadata": {},
     "output_type": "display_data"
    }
   ],
   "source": [
    "par(mfrow=c(3,2))\n",
    "stepSize = 1\n",
    "xMax = 25\n",
    "numTicks = xMax / stepSize\n",
    "v1 = c(0:numTicks)*stepSize\n",
    "plot(irf1$irf$G[,1], type ='l',lwd=2, main=\"Orthogonal Impulse Response from G\", ylab=\"G\", xlab=\"Steps\", xaxt=\"n\", ylim=range(irf1$Lower$G[,1],irf1$Upper$G[,1]))\n",
    "lines(irf1$Upper$G[,1], lty=2, col=\"red\")\n",
    "lines(irf1$Lower$G[,1], lty=2, col=\"red\")\n",
    "axis(side=1, at=v1, labels=v1)\n",
    "abline(h=0)\n",
    "plot(irf1$irf$G[,2], type ='l',lwd=2, main=\"Orthogonal Impulse Response from G\", ylab= \"TAX\", xlab=\"Steps\",xaxt=\"n\", ylim=range(irf1$Lower$G[,2],irf1$Upper$G[,2]))\n",
    "lines(irf1$Upper$G[,2], lty=2, col=\"red\")\n",
    "lines(irf1$Lower$G[,2], lty=2, col=\"red\")\n",
    "axis(side=1, at=v1, labels=v1)\n",
    "abline(h=0)\n",
    "plot(irf1$irf$G[,3], type ='l',lwd=2, main=\"Orthogonal Impulse Response from G\", ylab= \"C\", xlab=\"Steps\",xaxt=\"n\", ylim=range(irf1$Lower$G[,3],irf1$Upper$G[,3]))\n",
    "lines(irf1$Upper$G[,3], lty=2, col=\"red\")\n",
    "lines(irf1$Lower$G[,3], lty=2, col=\"red\")\n",
    "axis(side=1, at=v1, labels=v1)\n",
    "abline(h=0)\n",
    "\n",
    "plot(irf1$irf$G[,4], type ='l',lwd=2, main=\"Orthogonal Impulse Response from G\", ylab= \"I\", xlab=\"Steps\",xaxt=\"n\", ylim=range(irf1$Lower$G[,4],irf1$Upper$G[,4]))\n",
    "lines(irf1$Upper$G[,4], lty=2, col=\"red\")\n",
    "lines(irf1$Lower$G[,4], lty=2, col=\"red\")\n",
    "axis(side=1, at=v1, labels=v1)\n",
    "abline(h=0)\n",
    "plot(irf1$irf$G[,5], type ='l',lwd=2, main=\"Orthogonal Impulse Response from G\", ylab= \"GDP\", xlab=\"Steps\",xaxt=\"n\", ylim=range(irf1$Lower$G[,5],irf1$Upper$G[,5]))\n",
    "lines(irf1$Upper$G[,5], lty=2, col=\"red\")\n",
    "lines(irf1$Lower$G[,5], lty=2, col=\"red\")\n",
    "axis(side=1, at=v1, labels=v1)\n",
    "abline(h=0)"
   ]
  },
  {
   "cell_type": "markdown",
   "metadata": {},
   "source": [
    "From the \"Orthogonal Impulse Response from G\", and from the VAR, we can see that a positive shock to government spending (G) today will lead to an increase at t+1 in consumption (C), and GDP. Taxation (TAX) is not discernibly affected by a shock from government expenditure. Investment (I) is impacted in an oscillatory manner, first going down and then up again over some periods."
   ]
  },
  {
   "cell_type": "markdown",
   "metadata": {},
   "source": [
    "### Exercise 4d)"
   ]
  },
  {
   "cell_type": "code",
   "execution_count": 16,
   "metadata": {},
   "outputs": [
    {
     "data": {
      "text/html": [
       "<table>\n",
       "<thead><tr><th scope=col>G</th><th scope=col>TAX</th><th scope=col>C</th><th scope=col>I</th><th scope=col>GDP</th></tr></thead>\n",
       "<tbody>\n",
       "\t<tr><td>0.04034955</td><td>0.4640846 </td><td>0.10820140</td><td>0.04338808</td><td>0.3439764 </td></tr>\n",
       "\t<tr><td>0.07986986</td><td>0.3843743 </td><td>0.10289238</td><td>0.11852299</td><td>0.3143404 </td></tr>\n",
       "\t<tr><td>0.09834162</td><td>0.3721936 </td><td>0.10038479</td><td>0.11344936</td><td>0.3156306 </td></tr>\n",
       "\t<tr><td>0.11214399</td><td>0.3645009 </td><td>0.09854789</td><td>0.11441515</td><td>0.3103921 </td></tr>\n",
       "\t<tr><td>0.11866067</td><td>0.3613406 </td><td>0.09786928</td><td>0.11340282</td><td>0.3087266 </td></tr>\n",
       "\t<tr><td>0.12265433</td><td>0.3595013 </td><td>0.09738901</td><td>0.11307543</td><td>0.3073799 </td></tr>\n",
       "\t<tr><td>0.12464178</td><td>0.3586047 </td><td>0.09717502</td><td>0.11279749</td><td>0.3067810 </td></tr>\n",
       "\t<tr><td>0.12577519</td><td>0.3581008 </td><td>0.09704340</td><td>0.11267059</td><td>0.3064100 </td></tr>\n",
       "\t<tr><td>0.12636069</td><td>0.3578413 </td><td>0.09697886</td><td>0.11259228</td><td>0.3062269 </td></tr>\n",
       "\t<tr><td>0.12668411</td><td>0.3576985 </td><td>0.09694186</td><td>0.11255317</td><td>0.3061224 </td></tr>\n",
       "\t<tr><td>0.12685458</td><td>0.3576232 </td><td>0.09692285</td><td>0.11253094</td><td>0.3060684 </td></tr>\n",
       "\t<tr><td>0.12694736</td><td>0.3575823 </td><td>0.09691231</td><td>0.11251940</td><td>0.3060386 </td></tr>\n",
       "\t<tr><td>0.12699675</td><td>0.3575606 </td><td>0.09690678</td><td>0.11251305</td><td>0.3060229 </td></tr>\n",
       "\t<tr><td>0.12702345</td><td>0.3575488 </td><td>0.09690375</td><td>0.11250969</td><td>0.3060143 </td></tr>\n",
       "\t<tr><td>0.12703773</td><td>0.3575425 </td><td>0.09690215</td><td>0.11250787</td><td>0.3060098 </td></tr>\n",
       "\t<tr><td>0.12704542</td><td>0.3575391 </td><td>0.09690128</td><td>0.11250689</td><td>0.3060073 </td></tr>\n",
       "\t<tr><td>0.12704954</td><td>0.3575373 </td><td>0.09690082</td><td>0.11250637</td><td>0.3060060 </td></tr>\n",
       "\t<tr><td>0.12705176</td><td>0.3575363 </td><td>0.09690057</td><td>0.11250609</td><td>0.3060053 </td></tr>\n",
       "\t<tr><td>0.12705295</td><td>0.3575358 </td><td>0.09690043</td><td>0.11250594</td><td>0.3060049 </td></tr>\n",
       "\t<tr><td>0.12705359</td><td>0.3575355 </td><td>0.09690036</td><td>0.11250585</td><td>0.3060047 </td></tr>\n",
       "</tbody>\n",
       "</table>\n"
      ],
      "text/latex": [
       "\\begin{tabular}{lllll}\n",
       " G & TAX & C & I & GDP\\\\\n",
       "\\hline\n",
       "\t 0.04034955 & 0.4640846  & 0.10820140 & 0.04338808 & 0.3439764 \\\\\n",
       "\t 0.07986986 & 0.3843743  & 0.10289238 & 0.11852299 & 0.3143404 \\\\\n",
       "\t 0.09834162 & 0.3721936  & 0.10038479 & 0.11344936 & 0.3156306 \\\\\n",
       "\t 0.11214399 & 0.3645009  & 0.09854789 & 0.11441515 & 0.3103921 \\\\\n",
       "\t 0.11866067 & 0.3613406  & 0.09786928 & 0.11340282 & 0.3087266 \\\\\n",
       "\t 0.12265433 & 0.3595013  & 0.09738901 & 0.11307543 & 0.3073799 \\\\\n",
       "\t 0.12464178 & 0.3586047  & 0.09717502 & 0.11279749 & 0.3067810 \\\\\n",
       "\t 0.12577519 & 0.3581008  & 0.09704340 & 0.11267059 & 0.3064100 \\\\\n",
       "\t 0.12636069 & 0.3578413  & 0.09697886 & 0.11259228 & 0.3062269 \\\\\n",
       "\t 0.12668411 & 0.3576985  & 0.09694186 & 0.11255317 & 0.3061224 \\\\\n",
       "\t 0.12685458 & 0.3576232  & 0.09692285 & 0.11253094 & 0.3060684 \\\\\n",
       "\t 0.12694736 & 0.3575823  & 0.09691231 & 0.11251940 & 0.3060386 \\\\\n",
       "\t 0.12699675 & 0.3575606  & 0.09690678 & 0.11251305 & 0.3060229 \\\\\n",
       "\t 0.12702345 & 0.3575488  & 0.09690375 & 0.11250969 & 0.3060143 \\\\\n",
       "\t 0.12703773 & 0.3575425  & 0.09690215 & 0.11250787 & 0.3060098 \\\\\n",
       "\t 0.12704542 & 0.3575391  & 0.09690128 & 0.11250689 & 0.3060073 \\\\\n",
       "\t 0.12704954 & 0.3575373  & 0.09690082 & 0.11250637 & 0.3060060 \\\\\n",
       "\t 0.12705176 & 0.3575363  & 0.09690057 & 0.11250609 & 0.3060053 \\\\\n",
       "\t 0.12705295 & 0.3575358  & 0.09690043 & 0.11250594 & 0.3060049 \\\\\n",
       "\t 0.12705359 & 0.3575355  & 0.09690036 & 0.11250585 & 0.3060047 \\\\\n",
       "\\end{tabular}\n"
      ],
      "text/markdown": [
       "\n",
       "| G | TAX | C | I | GDP |\n",
       "|---|---|---|---|---|\n",
       "| 0.04034955 | 0.4640846  | 0.10820140 | 0.04338808 | 0.3439764  |\n",
       "| 0.07986986 | 0.3843743  | 0.10289238 | 0.11852299 | 0.3143404  |\n",
       "| 0.09834162 | 0.3721936  | 0.10038479 | 0.11344936 | 0.3156306  |\n",
       "| 0.11214399 | 0.3645009  | 0.09854789 | 0.11441515 | 0.3103921  |\n",
       "| 0.11866067 | 0.3613406  | 0.09786928 | 0.11340282 | 0.3087266  |\n",
       "| 0.12265433 | 0.3595013  | 0.09738901 | 0.11307543 | 0.3073799  |\n",
       "| 0.12464178 | 0.3586047  | 0.09717502 | 0.11279749 | 0.3067810  |\n",
       "| 0.12577519 | 0.3581008  | 0.09704340 | 0.11267059 | 0.3064100  |\n",
       "| 0.12636069 | 0.3578413  | 0.09697886 | 0.11259228 | 0.3062269  |\n",
       "| 0.12668411 | 0.3576985  | 0.09694186 | 0.11255317 | 0.3061224  |\n",
       "| 0.12685458 | 0.3576232  | 0.09692285 | 0.11253094 | 0.3060684  |\n",
       "| 0.12694736 | 0.3575823  | 0.09691231 | 0.11251940 | 0.3060386  |\n",
       "| 0.12699675 | 0.3575606  | 0.09690678 | 0.11251305 | 0.3060229  |\n",
       "| 0.12702345 | 0.3575488  | 0.09690375 | 0.11250969 | 0.3060143  |\n",
       "| 0.12703773 | 0.3575425  | 0.09690215 | 0.11250787 | 0.3060098  |\n",
       "| 0.12704542 | 0.3575391  | 0.09690128 | 0.11250689 | 0.3060073  |\n",
       "| 0.12704954 | 0.3575373  | 0.09690082 | 0.11250637 | 0.3060060  |\n",
       "| 0.12705176 | 0.3575363  | 0.09690057 | 0.11250609 | 0.3060053  |\n",
       "| 0.12705295 | 0.3575358  | 0.09690043 | 0.11250594 | 0.3060049  |\n",
       "| 0.12705359 | 0.3575355  | 0.09690036 | 0.11250585 | 0.3060047  |\n",
       "\n"
      ],
      "text/plain": [
       "      G          TAX       C          I          GDP      \n",
       " [1,] 0.04034955 0.4640846 0.10820140 0.04338808 0.3439764\n",
       " [2,] 0.07986986 0.3843743 0.10289238 0.11852299 0.3143404\n",
       " [3,] 0.09834162 0.3721936 0.10038479 0.11344936 0.3156306\n",
       " [4,] 0.11214399 0.3645009 0.09854789 0.11441515 0.3103921\n",
       " [5,] 0.11866067 0.3613406 0.09786928 0.11340282 0.3087266\n",
       " [6,] 0.12265433 0.3595013 0.09738901 0.11307543 0.3073799\n",
       " [7,] 0.12464178 0.3586047 0.09717502 0.11279749 0.3067810\n",
       " [8,] 0.12577519 0.3581008 0.09704340 0.11267059 0.3064100\n",
       " [9,] 0.12636069 0.3578413 0.09697886 0.11259228 0.3062269\n",
       "[10,] 0.12668411 0.3576985 0.09694186 0.11255317 0.3061224\n",
       "[11,] 0.12685458 0.3576232 0.09692285 0.11253094 0.3060684\n",
       "[12,] 0.12694736 0.3575823 0.09691231 0.11251940 0.3060386\n",
       "[13,] 0.12699675 0.3575606 0.09690678 0.11251305 0.3060229\n",
       "[14,] 0.12702345 0.3575488 0.09690375 0.11250969 0.3060143\n",
       "[15,] 0.12703773 0.3575425 0.09690215 0.11250787 0.3060098\n",
       "[16,] 0.12704542 0.3575391 0.09690128 0.11250689 0.3060073\n",
       "[17,] 0.12704954 0.3575373 0.09690082 0.11250637 0.3060060\n",
       "[18,] 0.12705176 0.3575363 0.09690057 0.11250609 0.3060053\n",
       "[19,] 0.12705295 0.3575358 0.09690043 0.11250594 0.3060049\n",
       "[20,] 0.12705359 0.3575355 0.09690036 0.11250585 0.3060047"
      ]
     },
     "metadata": {},
     "output_type": "display_data"
    }
   ],
   "source": [
    "fevdg=fevd(var1, n.ahead=20)\n",
    "fevdg$GDP"
   ]
  },
  {
   "cell_type": "markdown",
   "metadata": {},
   "source": [
    "G shocks explain about 4.03% of the variation in GDP at impact and this value keeps increasing on the 20 steps ahead until it reaches 12.71%. That is its relevant importance, along the 20 steps, in explaining variation in GDP."
   ]
  },
  {
   "cell_type": "markdown",
   "metadata": {},
   "source": [
    "### Exercise 4e)"
   ]
  },
  {
   "cell_type": "code",
   "execution_count": 17,
   "metadata": {},
   "outputs": [
    {
     "name": "stderr",
     "output_type": "stream",
     "text": [
      "Warning message:\n",
      "\"package 'forecast' was built under R version 3.6.2\""
     ]
    }
   ],
   "source": [
    "library(forecast)\n",
    "data4e=data4[1:99,]\n",
    "data4e=data4e[,-1]\n",
    "data4ets= ts(data4e, start=1995, deltat=1/4)\n",
    "data4ets=(log(data4ets))*100\n",
    "data4ets=diff(data4ets)\n",
    "data4ets=data4ets[,c(3,5,2,4,1)]\n",
    "var2= VAR(data4ets[,1:5], lag.max=12, ic=\"SC\")\n",
    "varforecast=predict(var2, n.ahead=1, ci=0.95)\n",
    "arimaforecast=auto.arima(data4e$GDP)"
   ]
  },
  {
   "cell_type": "code",
   "execution_count": 18,
   "metadata": {},
   "outputs": [
    {
     "data": {
      "text/html": [
       "107"
      ],
      "text/latex": [
       "107"
      ],
      "text/markdown": [
       "107"
      ],
      "text/plain": [
       "[1] 107"
      ]
     },
     "metadata": {},
     "output_type": "display_data"
    },
    {
     "data": {
      "text/html": [
       "<table>\n",
       "<thead><tr><th></th><th scope=col>fcst</th><th scope=col>lower</th><th scope=col>upper</th><th scope=col>CI</th></tr></thead>\n",
       "<tbody>\n",
       "\t<tr><th scope=row>GDP.fcst</th><td>28.94059 </td><td>-106.2762</td><td>164.1574 </td><td>135.2168 </td></tr>\n",
       "</tbody>\n",
       "</table>\n"
      ],
      "text/latex": [
       "\\begin{tabular}{r|llll}\n",
       "  & fcst & lower & upper & CI\\\\\n",
       "\\hline\n",
       "\tGDP.fcst & 28.94059  & -106.2762 & 164.1574  & 135.2168 \\\\\n",
       "\\end{tabular}\n"
      ],
      "text/markdown": [
       "\n",
       "| <!--/--> | fcst | lower | upper | CI |\n",
       "|---|---|---|---|---|\n",
       "| GDP.fcst | 28.94059  | -106.2762 | 164.1574  | 135.2168  |\n",
       "\n"
      ],
      "text/plain": [
       "         fcst     lower     upper    CI      \n",
       "GDP.fcst 28.94059 -106.2762 164.1574 135.2168"
      ]
     },
     "metadata": {},
     "output_type": "display_data"
    },
    {
     "data": {
      "text/plain": [
       "    Point Forecast    Lo 80    Hi 80    Lo 95    Hi 95\n",
       "100       106.8378 105.9847 107.6908 105.5332 108.1424"
      ]
     },
     "metadata": {},
     "output_type": "display_data"
    }
   ],
   "source": [
    "data4$GDP[100]\n",
    "(varforecast$fcst$GDP)*100\n",
    "forecast(arimaforecast, h=1)"
   ]
  },
  {
   "cell_type": "markdown",
   "metadata": {},
   "source": [
    "So we can see clearly that:\n",
    "\n",
    "True value: 107\n",
    "\n",
    "VAR Forecast: 28,94059\n",
    "\n",
    "ARIMA Forecast: 106,8378"
   ]
  },
  {
   "cell_type": "markdown",
   "metadata": {},
   "source": [
    "The forecasts for the VAR have such huge variation and are so far off the mark that I'm actually not sure I did everything right. However, if I did not make any mistakes, this shows that the ARIMA model is so much better because the prediction is much much closer to the observed value than the VAR one, and the standard error is much lower. As we have learned in classes, VAR models are usually overparametrized and lose a lot of degrees of freedom - and parsimonious ARIMA models are usually the way to go for forecasts."
   ]
  }
 ],
 "metadata": {
  "kernelspec": {
   "display_name": "R",
   "language": "R",
   "name": "ir"
  },
  "language_info": {
   "codemirror_mode": "r",
   "file_extension": ".r",
   "mimetype": "text/x-r-source",
   "name": "R",
   "pygments_lexer": "r",
   "version": "3.6.1"
  },
  "varInspector": {
   "cols": {
    "lenName": 16,
    "lenType": 16,
    "lenVar": 40
   },
   "kernels_config": {
    "python": {
     "delete_cmd_postfix": "",
     "delete_cmd_prefix": "del ",
     "library": "var_list.py",
     "varRefreshCmd": "print(var_dic_list())"
    },
    "r": {
     "delete_cmd_postfix": ") ",
     "delete_cmd_prefix": "rm(",
     "library": "var_list.r",
     "varRefreshCmd": "cat(var_dic_list()) "
    }
   },
   "types_to_exclude": [
    "module",
    "function",
    "builtin_function_or_method",
    "instance",
    "_Feature"
   ],
   "window_display": false
  }
 },
 "nbformat": 4,
 "nbformat_minor": 4
}
