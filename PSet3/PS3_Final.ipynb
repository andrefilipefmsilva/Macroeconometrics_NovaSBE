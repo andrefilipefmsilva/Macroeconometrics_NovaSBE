{
 "cells": [
  {
   "cell_type": "markdown",
   "metadata": {},
   "source": [
    "# Macroeconometrics Problem Set 3 \n",
    "André Filipe Silva 26005<br>\n",
    "João Seixo 40510<br>\n",
    "Márcia Serra 41221"
   ]
  },
  {
   "cell_type": "markdown",
   "metadata": {},
   "source": [
    "## Part 1"
   ]
  },
  {
   "cell_type": "code",
   "execution_count": 3,
   "metadata": {},
   "outputs": [],
   "source": [
    "library(xlsx)\n",
    "library(vars)\n",
    "library(urca)\n",
    "library(tseries)\n",
    "library(knitr) "
   ]
  },
  {
   "cell_type": "markdown",
   "metadata": {},
   "source": [
    "### EXERCISE 1A"
   ]
  },
  {
   "cell_type": "code",
   "execution_count": 4,
   "metadata": {},
   "outputs": [],
   "source": [
    "data=read.xlsx(\"ps3_data_Q1_2020.xlsx\", header=TRUE, sheetIndex =1)\n",
    "df=data.frame(\"G_Health\"=data[,3], \"Revenue_Total\"=data[,2])\n",
    "dfts=ts(df)\n",
    "row.names(dfts)=c(1970:2018)"
   ]
  },
  {
   "cell_type": "code",
   "execution_count": 5,
   "metadata": {},
   "outputs": [
    {
     "data": {
      "text/html": [
       "<table>\n",
       "<thead><tr><th></th><th scope=col>G_Health</th><th scope=col>Revenue_Total</th></tr></thead>\n",
       "<tbody>\n",
       "\t<tr><th scope=row>1970</th><td>2.798418</td><td>29.80710</td></tr>\n",
       "\t<tr><th scope=row>1971</th><td>2.970855</td><td>29.27349</td></tr>\n",
       "\t<tr><th scope=row>1972</th><td>3.094316</td><td>30.40609</td></tr>\n",
       "\t<tr><th scope=row>1973</th><td>3.181722</td><td>30.63798</td></tr>\n",
       "\t<tr><th scope=row>1974</th><td>3.422005</td><td>31.23342</td></tr>\n",
       "</tbody>\n",
       "</table>\n"
      ],
      "text/latex": [
       "\\begin{tabular}{r|ll}\n",
       "  & G\\_Health & Revenue\\_Total\\\\\n",
       "\\hline\n",
       "\t1970 & 2.798418 & 29.80710\\\\\n",
       "\t1971 & 2.970855 & 29.27349\\\\\n",
       "\t1972 & 3.094316 & 30.40609\\\\\n",
       "\t1973 & 3.181722 & 30.63798\\\\\n",
       "\t1974 & 3.422005 & 31.23342\\\\\n",
       "\\end{tabular}\n"
      ],
      "text/markdown": [
       "\n",
       "| <!--/--> | G_Health | Revenue_Total |\n",
       "|---|---|---|\n",
       "| 1970 | 2.798418 | 29.80710 |\n",
       "| 1971 | 2.970855 | 29.27349 |\n",
       "| 1972 | 3.094316 | 30.40609 |\n",
       "| 1973 | 3.181722 | 30.63798 |\n",
       "| 1974 | 3.422005 | 31.23342 |\n",
       "\n"
      ],
      "text/plain": [
       "     G_Health Revenue_Total\n",
       "1970 2.798418 29.80710     \n",
       "1971 2.970855 29.27349     \n",
       "1972 3.094316 30.40609     \n",
       "1973 3.181722 30.63798     \n",
       "1974 3.422005 31.23342     "
      ]
     },
     "metadata": {},
     "output_type": "display_data"
    }
   ],
   "source": [
    "dfts[1:5,] \n",
    "\n",
    "# Displaying part of the data frame for easier visualization of our results in this question"
   ]
  },
  {
   "cell_type": "markdown",
   "metadata": {},
   "source": [
    "### EXERCISE 1B"
   ]
  },
  {
   "cell_type": "markdown",
   "metadata": {},
   "source": [
    "Note: When you say \"test for all series\", we are assuming it is for all the series we included in the data frame (G_health and Revenue_Total)."
   ]
  },
  {
   "cell_type": "markdown",
   "metadata": {},
   "source": [
    "__Testing for Health expenditure__ (G_Health)"
   ]
  },
  {
   "cell_type": "code",
   "execution_count": 6,
   "metadata": {},
   "outputs": [
    {
     "data": {
      "image/png": "[encoded data removed]",
      "text/plain": [
       "plot without title"
      ]
     },
     "metadata": {},
     "output_type": "display_data"
    }
   ],
   "source": [
    "plot(dfts[,1], ylab=\"G_Health\")"
   ]
  },
  {
   "cell_type": "markdown",
   "metadata": {},
   "source": [
    "Just from plotting the graph, it becomes very obvious that the series is non-stationary. But let's proceed with the formal Augmented Dickey-Fuller test."
   ]
  },
  {
   "cell_type": "code",
   "execution_count": 7,
   "metadata": {},
   "outputs": [
    {
     "data": {
      "text/plain": [
       "\n",
       "\tAugmented Dickey-Fuller Test\n",
       "\n",
       "data:  dfts[, 1]\n",
       "Dickey-Fuller = -2.5975, Lag order = 3, p-value = 0.3351\n",
       "alternative hypothesis: stationary\n"
      ]
     },
     "metadata": {},
     "output_type": "display_data"
    }
   ],
   "source": [
    "adf.test(dfts[,1])"
   ]
  },
  {
   "cell_type": "markdown",
   "metadata": {},
   "source": [
    "$H_0$: Non - Stationarity<br>\n",
    "$H_1$: Stationarity"
   ]
  },
  {
   "cell_type": "markdown",
   "metadata": {},
   "source": [
    "Given the p-value of 0.3351, we do not reject the null hypothesis of non-stationarity, for a 5% significance level. <br>\n",
    "We conclude that the Health expenditure series is non-stationary."
   ]
  },
  {
   "cell_type": "markdown",
   "metadata": {},
   "source": [
    "__Testing for Total Revenue__ (Revenue_total)"
   ]
  },
  {
   "cell_type": "code",
   "execution_count": 8,
   "metadata": {},
   "outputs": [
    {
     "data": {
      "image/png": "[encoded data removed]",
      "text/plain": [
       "plot without title"
      ]
     },
     "metadata": {},
     "output_type": "display_data"
    }
   ],
   "source": [
    "plot(dfts[,2], ylab=\"Revenue_total\")"
   ]
  },
  {
   "cell_type": "markdown",
   "metadata": {},
   "source": [
    "It is a bit harder to conclude straight away from looking at the plotted values that there exists a unit root. Let's proceed to the formal testing."
   ]
  },
  {
   "cell_type": "code",
   "execution_count": 9,
   "metadata": {},
   "outputs": [
    {
     "data": {
      "text/plain": [
       "\n",
       "\tAugmented Dickey-Fuller Test\n",
       "\n",
       "data:  dfts[, 2]\n",
       "Dickey-Fuller = -2.2865, Lag order = 3, p-value = 0.4595\n",
       "alternative hypothesis: stationary\n"
      ]
     },
     "metadata": {},
     "output_type": "display_data"
    }
   ],
   "source": [
    "adf.test(dfts[,2])"
   ]
  },
  {
   "cell_type": "markdown",
   "metadata": {},
   "source": [
    "From this result, and given the p-value of 0.4595, we also conclude for non-stationarity of the total revenue series, at a 5% significance level."
   ]
  },
  {
   "cell_type": "markdown",
   "metadata": {},
   "source": [
    "Other than this, since the adf.test function detrends the series for testing, to grant the test more power, we can conclude that detrending would not make the series stationary.<br>\n",
    "And given both series are non-stationary, our only chance at relating them with each other is if there exists some kind of cointegration between them."
   ]
  },
  {
   "cell_type": "markdown",
   "metadata": {},
   "source": [
    "### EXERCISE 1C"
   ]
  },
  {
   "cell_type": "code",
   "execution_count": 10,
   "metadata": {},
   "outputs": [
    {
     "data": {
      "image/png": "[encoded data removed]",
      "text/plain": [
       "plot without title"
      ]
     },
     "metadata": {},
     "output_type": "display_data"
    }
   ],
   "source": [
    "ts.plot(dfts[,1], dfts[,2], gpars = list(col = c(\"blue\", \"red\")), ylim=c(0,39))\n",
    "legend(\"bottomright\", c(\"G_Health\",\"Revenue_total\"), fill=c(\"blue\",\"red\"),cex=0.8)"
   ]
  },
  {
   "cell_type": "markdown",
   "metadata": {},
   "source": [
    "Throughout this exercise, we will number the steps taken regarding the __Johansen methodology.__"
   ]
  },
  {
   "cell_type": "markdown",
   "metadata": {},
   "source": [
    "__1. Pretesting the variables for their order of integration__"
   ]
  },
  {
   "cell_type": "markdown",
   "metadata": {},
   "source": [
    "Since the adf.test in levels shows us existence of unit root in both series, let us see if first-differencing makes the series stationary. If that is so, the series are I(1). If not, it is possible that the series are I(2) or integrated of higher order."
   ]
  },
  {
   "cell_type": "code",
   "execution_count": 11,
   "metadata": {},
   "outputs": [
    {
     "name": "stderr",
     "output_type": "stream",
     "text": [
      "Warning message in adf.test(diff(dfts[, 1])):\n",
      "\"p-value smaller than printed p-value\""
     ]
    },
    {
     "data": {
      "text/plain": [
       "\n",
       "\tAugmented Dickey-Fuller Test\n",
       "\n",
       "data:  diff(dfts[, 1])\n",
       "Dickey-Fuller = -4.2857, Lag order = 3, p-value = 0.01\n",
       "alternative hypothesis: stationary\n"
      ]
     },
     "metadata": {},
     "output_type": "display_data"
    }
   ],
   "source": [
    "adf.test(diff(dfts[,1]))"
   ]
  },
  {
   "cell_type": "markdown",
   "metadata": {},
   "source": [
    "The Health Expenditure series in first differences is stationary. As such, we conclude that the original series is I(1)."
   ]
  },
  {
   "cell_type": "code",
   "execution_count": 12,
   "metadata": {},
   "outputs": [
    {
     "name": "stderr",
     "output_type": "stream",
     "text": [
      "Warning message in adf.test(diff(dfts[, 2])):\n",
      "\"p-value smaller than printed p-value\""
     ]
    },
    {
     "data": {
      "text/plain": [
       "\n",
       "\tAugmented Dickey-Fuller Test\n",
       "\n",
       "data:  diff(dfts[, 2])\n",
       "Dickey-Fuller = -4.8024, Lag order = 3, p-value = 0.01\n",
       "alternative hypothesis: stationary\n"
      ]
     },
     "metadata": {},
     "output_type": "display_data"
    }
   ],
   "source": [
    "adf.test(diff(dfts[,2]))"
   ]
  },
  {
   "cell_type": "markdown",
   "metadata": {},
   "source": [
    "The Total Revenue series in first differences is also stationary. So, the original series is also I(1)."
   ]
  },
  {
   "cell_type": "markdown",
   "metadata": {},
   "source": [
    "Both series are integrated of order 1. This means there can exist cointegration among them, as being integrated of the same order is a prerequisite for cointegration."
   ]
  },
  {
   "cell_type": "markdown",
   "metadata": {},
   "source": [
    "__2. Selecting the order of the VAR with undifferenced data__"
   ]
  },
  {
   "cell_type": "code",
   "execution_count": 11,
   "metadata": {},
   "outputs": [
    {
     "data": {
      "text/html": [
       "<dl>\n",
       "\t<dt>$selection</dt>\n",
       "\t\t<dd><dl class=dl-horizontal>\n",
       "\t<dt>AIC(n)</dt>\n",
       "\t\t<dd>2</dd>\n",
       "\t<dt>HQ(n)</dt>\n",
       "\t\t<dd>2</dd>\n",
       "\t<dt>SC(n)</dt>\n",
       "\t\t<dd>2</dd>\n",
       "\t<dt>FPE(n)</dt>\n",
       "\t\t<dd>2</dd>\n",
       "</dl>\n",
       "</dd>\n",
       "\t<dt>$criteria</dt>\n",
       "\t\t<dd><table>\n",
       "<thead><tr><th></th><th scope=col>1</th><th scope=col>2</th><th scope=col>3</th><th scope=col>4</th><th scope=col>5</th><th scope=col>6</th><th scope=col>7</th><th scope=col>8</th><th scope=col>9</th><th scope=col>10</th></tr></thead>\n",
       "<tbody>\n",
       "\t<tr><th scope=row>AIC(n)</th><td>-3.60668605</td><td>-3.8827854 </td><td>-3.74653908</td><td>-3.64388899</td><td>-3.57176294</td><td>-3.5504434 </td><td>-3.43964759</td><td>-3.75869985</td><td>-3.81399820</td><td>-3.80339053</td></tr>\n",
       "\t<tr><th scope=row>HQ(n)</th><td>-3.51485965</td><td>-3.7297414 </td><td>-3.53227748</td><td>-3.36840978</td><td>-3.23506614</td><td>-3.1525290 </td><td>-2.98051559</td><td>-3.23835025</td><td>-3.23243100</td><td>-3.16060573</td></tr>\n",
       "\t<tr><th scope=row>SC(n)</th><td>-3.35075349</td><td>-3.4562312 </td><td>-3.14936311</td><td>-2.87609130</td><td>-2.63334355</td><td>-2.4414023 </td><td>-2.15998478</td><td>-2.30841534</td><td>-2.19309198</td><td>-2.01186261</td></tr>\n",
       "\t<tr><th scope=row>FPE(n)</th><td> 0.02715818</td><td> 0.0206519 </td><td> 0.02378556</td><td> 0.02659695</td><td> 0.02900372</td><td> 0.0302735 </td><td> 0.03486581</td><td> 0.02641902</td><td> 0.02642897</td><td> 0.02874501</td></tr>\n",
       "</tbody>\n",
       "</table>\n",
       "</dd>\n",
       "</dl>\n"
      ],
      "text/latex": [
       "\\begin{description}\n",
       "\\item[\\$selection] \\begin{description*}\n",
       "\\item[AIC(n)] 2\n",
       "\\item[HQ(n)] 2\n",
       "\\item[SC(n)] 2\n",
       "\\item[FPE(n)] 2\n",
       "\\end{description*}\n",
       "\n",
       "\\item[\\$criteria] \\begin{tabular}{r|llllllllll}\n",
       "  & 1 & 2 & 3 & 4 & 5 & 6 & 7 & 8 & 9 & 10\\\\\n",
       "\\hline\n",
       "\tAIC(n) & -3.60668605 & -3.8827854  & -3.74653908 & -3.64388899 & -3.57176294 & -3.5504434  & -3.43964759 & -3.75869985 & -3.81399820 & -3.80339053\\\\\n",
       "\tHQ(n) & -3.51485965 & -3.7297414  & -3.53227748 & -3.36840978 & -3.23506614 & -3.1525290  & -2.98051559 & -3.23835025 & -3.23243100 & -3.16060573\\\\\n",
       "\tSC(n) & -3.35075349 & -3.4562312  & -3.14936311 & -2.87609130 & -2.63334355 & -2.4414023  & -2.15998478 & -2.30841534 & -2.19309198 & -2.01186261\\\\\n",
       "\tFPE(n) &  0.02715818 &  0.0206519  &  0.02378556 &  0.02659695 &  0.02900372 &  0.0302735  &  0.03486581 &  0.02641902 &  0.02642897 &  0.02874501\\\\\n",
       "\\end{tabular}\n",
       "\n",
       "\\end{description}\n"
      ],
      "text/markdown": [
       "$selection\n",
       ":   AIC(n)\n",
       ":   2HQ(n)\n",
       ":   2SC(n)\n",
       ":   2FPE(n)\n",
       ":   2\n",
       "\n",
       "\n",
       "$criteria\n",
       ":   \n",
       "| <!--/--> | 1 | 2 | 3 | 4 | 5 | 6 | 7 | 8 | 9 | 10 |\n",
       "|---|---|---|---|---|---|---|---|---|---|---|\n",
       "| AIC(n) | -3.60668605 | -3.8827854  | -3.74653908 | -3.64388899 | -3.57176294 | -3.5504434  | -3.43964759 | -3.75869985 | -3.81399820 | -3.80339053 |\n",
       "| HQ(n) | -3.51485965 | -3.7297414  | -3.53227748 | -3.36840978 | -3.23506614 | -3.1525290  | -2.98051559 | -3.23835025 | -3.23243100 | -3.16060573 |\n",
       "| SC(n) | -3.35075349 | -3.4562312  | -3.14936311 | -2.87609130 | -2.63334355 | -2.4414023  | -2.15998478 | -2.30841534 | -2.19309198 | -2.01186261 |\n",
       "| FPE(n) |  0.02715818 |  0.0206519  |  0.02378556 |  0.02659695 |  0.02900372 |  0.0302735  |  0.03486581 |  0.02641902 |  0.02642897 |  0.02874501 |\n",
       "\n",
       "\n",
       "\n",
       "\n"
      ],
      "text/plain": [
       "$selection\n",
       "AIC(n)  HQ(n)  SC(n) FPE(n) \n",
       "     2      2      2      2 \n",
       "\n",
       "$criteria\n",
       "                 1          2           3           4           5          6\n",
       "AIC(n) -3.60668605 -3.8827854 -3.74653908 -3.64388899 -3.57176294 -3.5504434\n",
       "HQ(n)  -3.51485965 -3.7297414 -3.53227748 -3.36840978 -3.23506614 -3.1525290\n",
       "SC(n)  -3.35075349 -3.4562312 -3.14936311 -2.87609130 -2.63334355 -2.4414023\n",
       "FPE(n)  0.02715818  0.0206519  0.02378556  0.02659695  0.02900372  0.0302735\n",
       "                 7           8           9          10\n",
       "AIC(n) -3.43964759 -3.75869985 -3.81399820 -3.80339053\n",
       "HQ(n)  -2.98051559 -3.23835025 -3.23243100 -3.16060573\n",
       "SC(n)  -2.15998478 -2.30841534 -2.19309198 -2.01186261\n",
       "FPE(n)  0.03486581  0.02641902  0.02642897  0.02874501\n"
      ]
     },
     "metadata": {},
     "output_type": "display_data"
    }
   ],
   "source": [
    "VARselect(dfts)"
   ]
  },
  {
   "cell_type": "markdown",
   "metadata": {},
   "source": [
    "All criteria point towards 2 lags, so we select 2 as the significant number of lags to include."
   ]
  },
  {
   "cell_type": "markdown",
   "metadata": {},
   "source": [
    "__3. Estimating the model and determining the rank of $\\pi$.__"
   ]
  },
  {
   "cell_type": "code",
   "execution_count": 14,
   "metadata": {},
   "outputs": [
    {
     "data": {
      "text/plain": [
       "\n",
       "###################### \n",
       "# Johansen-Procedure # \n",
       "###################### \n",
       "\n",
       "Test type: trace statistic , without linear trend and constant in cointegration \n",
       "\n",
       "Eigenvalues (lambda):\n",
       "[1] 2.669163e-01 1.250291e-01 2.775558e-16\n",
       "\n",
       "Values of teststatistic and critical values of test:\n",
       "\n",
       "          test 10pct  5pct  1pct\n",
       "r <= 1 |  6.28  7.52  9.24 12.97\n",
       "r = 0  | 20.87 17.85 19.96 24.60\n",
       "\n",
       "Eigenvectors, normalised to first column:\n",
       "(These are the cointegration relations)\n",
       "\n",
       "                 G_Health.l2 Revenue_Total.l2    constant\n",
       "G_Health.l2         1.000000         1.000000  1.00000000\n",
       "Revenue_Total.l2   -4.930188        -1.458496  0.02283146\n",
       "constant          155.651228        37.145650 -5.48496805\n",
       "\n",
       "Weights W:\n",
       "(This is the loading matrix)\n",
       "\n",
       "                 G_Health.l2 Revenue_Total.l2      constant\n",
       "G_Health.d      -0.004587278     -0.016447223 -1.509798e-17\n",
       "Revenue_Total.d  0.071273797     -0.004609789 -5.053070e-17\n"
      ]
     },
     "metadata": {},
     "output_type": "display_data"
    }
   ],
   "source": [
    "vecm1=ca.jo(dfts, type=\"trace\", K=2, spec=\"longrun\",ecdet=\"const\")\n",
    "summary(vecm1)"
   ]
  },
  {
   "cell_type": "markdown",
   "metadata": {},
   "source": [
    "This is the $\\lambda_{trace}$ test.<br>\n",
    "$H_0$: rank of $\\pi$ < = r <br>\n",
    "$H_1$: rank of $\\pi$ > r\n",
    "<br>\n",
    "<br>\n",
    "We reject the null hypothesis for r=0 at a 10% significance level. (We also reject it at 5%, but the reason for choosing 10% becomes evident with the next test.) __This means that the rank of $\\pi$ is at least 1.__"
   ]
  },
  {
   "cell_type": "code",
   "execution_count": 15,
   "metadata": {},
   "outputs": [
    {
     "data": {
      "text/plain": [
       "\n",
       "###################### \n",
       "# Johansen-Procedure # \n",
       "###################### \n",
       "\n",
       "Test type: maximal eigenvalue statistic (lambda max) , without linear trend and constant in cointegration \n",
       "\n",
       "Eigenvalues (lambda):\n",
       "[1] 2.669163e-01 1.250291e-01 2.775558e-16\n",
       "\n",
       "Values of teststatistic and critical values of test:\n",
       "\n",
       "          test 10pct  5pct  1pct\n",
       "r <= 1 |  6.28  7.52  9.24 12.97\n",
       "r = 0  | 14.59 13.75 15.67 20.20\n",
       "\n",
       "Eigenvectors, normalised to first column:\n",
       "(These are the cointegration relations)\n",
       "\n",
       "                 G_Health.l2 Revenue_Total.l2    constant\n",
       "G_Health.l2         1.000000         1.000000  1.00000000\n",
       "Revenue_Total.l2   -4.930188        -1.458496  0.02283146\n",
       "constant          155.651228        37.145650 -5.48496805\n",
       "\n",
       "Weights W:\n",
       "(This is the loading matrix)\n",
       "\n",
       "                 G_Health.l2 Revenue_Total.l2      constant\n",
       "G_Health.d      -0.004587278     -0.016447223 -1.509798e-17\n",
       "Revenue_Total.d  0.071273797     -0.004609789 -5.053070e-17\n"
      ]
     },
     "metadata": {},
     "output_type": "display_data"
    }
   ],
   "source": [
    "vecm2=ca.jo(dfts, type=\"eigen\",K=2,spec=\"longrun\",ecdet=\"const\")\n",
    "summary(vecm2)"
   ]
  },
  {
   "cell_type": "markdown",
   "metadata": {},
   "source": [
    "This is the $\\lambda_{max}$ test.<br>\n",
    "$H_0$: rank of $\\pi$ = r<br>\n",
    "$H_1$: rank of $\\pi$ = r+1 <br>\n",
    "<br>\n",
    "We reject the null hypothesis for r=0 at a 10% significance level (although here we do not reject at the 5% level). And we do not reject the null hypothesis for r=1 at any significance level. <br> We thus conclude the rank of $\\pi$ to be 1.\n",
    "<br>\n",
    "__This means that Health Revenue and Total Expenditure are cointegrated of order 1.__\n",
    "<br>\n",
    "<br>"
   ]
  },
  {
   "cell_type": "markdown",
   "metadata": {},
   "source": [
    "__4. Cointegrating vector__"
   ]
  },
  {
   "cell_type": "code",
   "execution_count": 14,
   "metadata": {},
   "outputs": [
    {
     "data": {
      "text/plain": [
       "\n",
       "\n",
       "|              | Cointegrating Vector|\n",
       "|:-------------|--------------------:|\n",
       "|G_health      |             1.000000|\n",
       "|Revenue_Total |            -4.930188|\n",
       "|constant      |           155.651228|"
      ]
     },
     "metadata": {},
     "output_type": "display_data"
    }
   ],
   "source": [
    "coint = matrix(c(1.00000000 , -4.930188, 155.651228)) \n",
    "rownames(coint)= c('G_health', 'Revenue_Total', 'constant') \n",
    "colnames(coint)= c('Cointegrating Vector') \n",
    "library(knitr) \n",
    "kable(coint)"
   ]
  },
  {
   "cell_type": "markdown",
   "metadata": {},
   "source": [
    "Note: When \"Health Expenditure\" is mentioned, please note that we we refer to Health expenditure as share of the GDP - that is our data. We just use health expenditure so as to abbreviate the writing and avoid repetition.<br>\n",
    "<br>\n",
    "__Interpretation__:<br>\n",
    "The cointegrating vector shows us the long-run equilibrium relationship between Health Expenditure (as share of GDP) and Total Revenue. Given our results, and knowing that the Health Expenditure vector is normalized \\[i.e. we have a (1, -$\\beta$) vector], we can conclude that in the long-run Health Expenditure and Total Revenue are directly related: if total revenue increases in the long-run, health expenditure as a share of GDP will also increase. Or, to make it a bit easier to reason: if total revenue decreases in the long-run, health expenditure as a share of GDP will also decrease. When looking at economic theory, there is not a very clear reason for this. Theoretically, when *total* revenue falls, *total* health expenditure should also fall (as all expenditures in general), but what we have here is health expenditure *as share of GDP*. What this means, essentially, is that with total revenue variations, health expenditure varies disproportionately more, since the Health Expenditure series comes as share of the GDP. In practice, it means that the US government prioritizes other expenses when total revenue falls, and Health Expenditure - becoming a lesser priority in these times - falls more in absolute terms than the Revenue. Or in a case when total revenue rises, health expenditure gets a bigger boost."
   ]
  },
  {
   "cell_type": "markdown",
   "metadata": {},
   "source": [
    "### EXERCISE 1D"
   ]
  },
  {
   "cell_type": "markdown",
   "metadata": {},
   "source": [
    "__Coefficients of adjustment__"
   ]
  },
  {
   "cell_type": "code",
   "execution_count": 15,
   "metadata": {},
   "outputs": [
    {
     "data": {
      "text/plain": [
       "\n",
       "\n",
       "|              | Adjustment Coefficients|\n",
       "|:-------------|-----------------------:|\n",
       "|G_health      |              -0.0045873|\n",
       "|Revenue_Total |               0.0712738|"
      ]
     },
     "metadata": {},
     "output_type": "display_data"
    }
   ],
   "source": [
    "speed_adjust = matrix(c(-0.004587278 ,0.071273797)) \n",
    "rownames(speed_adjust)= c('G_health', 'Revenue_Total') \n",
    "colnames(speed_adjust)= c('Adjustment Coefficients') \n",
    "kable(speed_adjust)"
   ]
  },
  {
   "cell_type": "markdown",
   "metadata": {},
   "source": [
    "__Interpretation__:<br>\n",
    "Looking into the short-run dynamics, we see that Health Expenditure falls in the short-run when there are positive deviations from the long-run equilibrium. But it is a barely significant fall (very small reaction of just about -0.4% each period). Total Revenue, however, increases - and from the magnitude of the Total Revenue we can see that it is Total Revenue that does the adjustment and more than offsets the decrease in Health Expenditure, thus leading to the return to long-term equilibrium fairly quickly.<br>\n",
    "Total Revenue reacts to a positive deviation from the long-run equilibrium by around +7% each period."
   ]
  },
  {
   "cell_type": "markdown",
   "metadata": {},
   "source": [
    "### EXERCISE 1E"
   ]
  },
  {
   "cell_type": "markdown",
   "metadata": {},
   "source": [
    "*__\"Transform your VECM into the VAR representation using the vec2var() function. Get the IRFs and plot them for the next 30 steps (30 years). Interpret them.\"__*"
   ]
  },
  {
   "cell_type": "code",
   "execution_count": 19,
   "metadata": {},
   "outputs": [
    {
     "data": {
      "image/png": "[encoded data removed]",
      "text/plain": [
       "plot without title"
      ]
     },
     "metadata": {},
     "output_type": "display_data"
    },
    {
     "data": {
      "image/png": "[encoded data removed]",
      "text/plain": [
       "plot without title"
      ]
     },
     "metadata": {},
     "output_type": "display_data"
    }
   ],
   "source": [
    "var1=vec2var(vecm1, r=1)\n",
    "irf1=irf(var1, n.ahead=30, ci=0.95, runs=100)\n",
    "plot(irf1)"
   ]
  },
  {
   "cell_type": "markdown",
   "metadata": {},
   "source": [
    "__Interpretation for Health Expenditure IRF__<br>\n",
    "A one standard-deviation increase to Health Expenditure in percent of GDP (~20%) leads to a contemporaneous fall in Total Revenue of about 40%. The shock wanes after a few periods and is not persistent in the long run."
   ]
  },
  {
   "cell_type": "markdown",
   "metadata": {},
   "source": [
    "__Interpretation for Total Revenue IRF__<br>\n",
    "A one standard-deviation increase in Total Revenue (~70%) generates a positive effect on Health Expenditure. The contemporaneous response is zero by assumption (Cholesky decomposition). Although there seems to be some persistence in the long run, strictly speaking our confidence interval includes zero, and with this said we can not really conclude for persistence."
   ]
  },
  {
   "cell_type": "markdown",
   "metadata": {},
   "source": [
    "__Note__: There seems to be a contradiction between what we get in terms of short-run dynamics (adjustment coefficients) and the IRFs. The values of the adjustment coefficient indicate that total revenue is supposed to increase in response to a positive deviation from the long-run equilibrium. However, the Impulse Response Functions point to the contrary. We have noticed this incoherence but do not exactly know how to explain it."
   ]
  },
  {
   "cell_type": "markdown",
   "metadata": {},
   "source": [
    "*__\"Estimate a VAR using the same dataset.\"__* "
   ]
  },
  {
   "cell_type": "code",
   "execution_count": 17,
   "metadata": {},
   "outputs": [
    {
     "data": {
      "text/plain": [
       "\n",
       "VAR Estimation Results:\n",
       "======================= \n",
       "\n",
       "Estimated coefficients for equation G_Health: \n",
       "============================================= \n",
       "Call:\n",
       "G_Health = G_Health.l1 + Revenue_Total.l1 + G_Health.l2 + Revenue_Total.l2 + const \n",
       "\n",
       "     G_Health.l1 Revenue_Total.l1      G_Health.l2 Revenue_Total.l2 \n",
       "      1.63467737       0.08840659      -0.65571187      -0.04180224 \n",
       "           const \n",
       "     -1.32495826 \n",
       "\n",
       "\n",
       "Estimated coefficients for equation Revenue_Total: \n",
       "================================================== \n",
       "Call:\n",
       "Revenue_Total = G_Health.l1 + Revenue_Total.l1 + G_Health.l2 + Revenue_Total.l2 + const \n",
       "\n",
       "     G_Health.l1 Revenue_Total.l1      G_Health.l2 Revenue_Total.l2 \n",
       "     -1.72025180       0.64443056       1.78691580       0.01089955 \n",
       "           const \n",
       "     10.92262046 \n",
       "\n"
      ]
     },
     "metadata": {},
     "output_type": "display_data"
    }
   ],
   "source": [
    "var2=VAR(dfts, lag.max=6, ic=\"AIC\")\n",
    "irf2=irf(var2, n.ahead=30, ci=0.95, runs=100)\n",
    "var2"
   ]
  },
  {
   "cell_type": "code",
   "execution_count": 18,
   "metadata": {},
   "outputs": [
    {
     "data": {
      "image/png": "[encoded data removed]",
      "text/plain": [
       "Plot with title \"Impulse Response from G_Health\""
      ]
     },
     "metadata": {},
     "output_type": "display_data"
    }
   ],
   "source": [
    "stepSize = 1\n",
    "xMax = 50\n",
    "numTicks = xMax / stepSize\n",
    "v1 = c(0:numTicks)*stepSize\n",
    "plot(irf1$irf$G_Health[,2], type ='l',lwd=2, col=\"red\", main=\"Impulse Response from G_Health\", ylab=\"Revenue_Total\", xlab=\"Steps\", xaxt=\"n\", ylim=range(irf1$Lower$G_Health[,2],irf1$Upper$G_Health[,2]))\n",
    "lines(irf1$Upper$G_Health[,2], lty=2, col=\"red\")\n",
    "lines(irf1$Lower$G_Health[,2], lty=2, col=\"red\")\n",
    "lines(irf2$irf$G_Health[,2], type='l', lwd=2, col=\"blue\", ylim=range(irf1$Lower$G_Health[,2],irf1$Upper$G_Health[,2]))\n",
    "lines(irf2$Upper$G_Health[,2], type='l', lty=2, col=\"darkblue\",ylim=range(irf1$Lower$G_Health[,2],irf1$Upper$G_Health[,2]))\n",
    "lines(irf2$Lower$G_Health[,2], type='l', lty=2, col=\"darkblue\",ylim=range(irf1$Lower$G_Health[,2],irf1$Upper$G_Health[,2]))\n",
    "axis(side=1, at=v1, labels=v1)\n",
    "abline(h=0)\n",
    "legend('bottomright', legend=c(\"VECM2VAR\", \"VAR2\"), col=c(\"red\", \"blue\"), lty=c(1,1), cex=0.8)\n"
   ]
  },
  {
   "cell_type": "markdown",
   "metadata": {},
   "source": [
    "The VECM transformed to VAR model is very similar to the VAR model using the same dataset. But the VECM imposes further restrictions on the short-run dynamics in order to get a long-run equilibrium. That is essentially where the differences between the two models come from. <br>\n",
    "<br>\n",
    "Regarding the current COVID-19 crisis, the measures put in place correspond to a positive (and very large in magnitude) shock in Health Expenditure. Extrapolating from our IRFs, we may theorize that tax revenue will have a significant drop over the next 2 to 4 years. The shock will then wane and in the long-run (>10 years) its impact disappears."
   ]
  },
  {
   "cell_type": "markdown",
   "metadata": {},
   "source": [
    "## Part 2"
   ]
  },
  {
   "cell_type": "markdown",
   "metadata": {},
   "source": [
    "### EXERCISE 2A"
   ]
  },
  {
   "cell_type": "markdown",
   "metadata": {},
   "source": [
    "First, we are going to import the data:"
   ]
  },
  {
   "cell_type": "code",
   "execution_count": 33,
   "metadata": {},
   "outputs": [
    {
     "data": {
      "text/html": [
       "'CPIAUCSL'"
      ],
      "text/latex": [
       "'CPIAUCSL'"
      ],
      "text/markdown": [
       "'CPIAUCSL'"
      ],
      "text/plain": [
       "[1] \"CPIAUCSL\""
      ]
     },
     "metadata": {},
     "output_type": "display_data"
    },
    {
     "data": {
      "text/html": [
       "'CPILFESL'"
      ],
      "text/latex": [
       "'CPILFESL'"
      ],
      "text/markdown": [
       "'CPILFESL'"
      ],
      "text/plain": [
       "[1] \"CPILFESL\""
      ]
     },
     "metadata": {},
     "output_type": "display_data"
    },
    {
     "data": {
      "text/html": [
       "'PCEPI'"
      ],
      "text/latex": [
       "'PCEPI'"
      ],
      "text/markdown": [
       "'PCEPI'"
      ],
      "text/plain": [
       "[1] \"PCEPI\""
      ]
     },
     "metadata": {},
     "output_type": "display_data"
    },
    {
     "data": {
      "text/html": [
       "'PCEPILFE'"
      ],
      "text/latex": [
       "'PCEPILFE'"
      ],
      "text/markdown": [
       "'PCEPILFE'"
      ],
      "text/plain": [
       "[1] \"PCEPILFE\""
      ]
     },
     "metadata": {},
     "output_type": "display_data"
    }
   ],
   "source": [
    "library(\"quantmod\")\n",
    "getSymbols(\"CPIAUCSL\", src= \"FRED\")\n",
    "CPI1= CPIAUCSL\n",
    "cpi1= window(CPI1, start = \"1959-01-01\", end=\"2020-02-01\") #Selecting a subset of the data; We also had to cut until february, because the two first variables has already the data to March qhile the other two didn't\n",
    "\n",
    "getSymbols(\"CPILFESL\", src=\"FRED\")\n",
    "CPI2= CPILFESL\n",
    "cpi2= window(CPI2, start = \"1959-01-01\",end=\"2020-02-01\")\n",
    "\n",
    "getSymbols(\"PCEPI\", src= \"FRED\")\n",
    "PCEPI1= PCEPI\n",
    "pcepi1=window(PCEPI1, start = \"1959-01-01\",end=\"2020-02-01\")\n",
    "\n",
    "getSymbols(\"PCEPILFE\", src= \"FRED\")\n",
    "PCEPI2=PCEPILFE \n",
    "pcepi2=window(PCEPI2, start = \"1959-01-01\",end=\"2020-02-01\")\n",
    "\n"
   ]
  },
  {
   "cell_type": "code",
   "execution_count": 34,
   "metadata": {},
   "outputs": [
    {
     "data": {
      "text/html": [
       "<table>\n",
       "<thead><tr><th></th><th scope=col>CPIAUCSL</th><th scope=col>CPILFESL</th><th scope=col>PCEPI</th><th scope=col>PCEPILFE</th></tr></thead>\n",
       "<tbody>\n",
       "\t<tr><th scope=row>1959-01-01</th><td>29.01 </td><td>29.9  </td><td>16.074</td><td>16.727</td></tr>\n",
       "\t<tr><th scope=row>1959-02-01</th><td>29.00 </td><td>29.9  </td><td>16.089</td><td>16.740</td></tr>\n",
       "\t<tr><th scope=row>1959-03-01</th><td>28.97 </td><td>30.0  </td><td>16.100</td><td>16.759</td></tr>\n",
       "\t<tr><th scope=row>1959-04-01</th><td>28.98 </td><td>30.0  </td><td>16.132</td><td>16.801</td></tr>\n",
       "\t<tr><th scope=row>1959-05-01</th><td>29.04 </td><td>30.1  </td><td>16.140</td><td>16.822</td></tr>\n",
       "\t<tr><th scope=row>1959-06-01</th><td>29.11 </td><td>30.2  </td><td>16.186</td><td>16.871</td></tr>\n",
       "</tbody>\n",
       "</table>\n"
      ],
      "text/latex": [
       "\\begin{tabular}{r|llll}\n",
       "  & CPIAUCSL & CPILFESL & PCEPI & PCEPILFE\\\\\n",
       "\\hline\n",
       "\t1959-01-01 & 29.01  & 29.9   & 16.074 & 16.727\\\\\n",
       "\t1959-02-01 & 29.00  & 29.9   & 16.089 & 16.740\\\\\n",
       "\t1959-03-01 & 28.97  & 30.0   & 16.100 & 16.759\\\\\n",
       "\t1959-04-01 & 28.98  & 30.0   & 16.132 & 16.801\\\\\n",
       "\t1959-05-01 & 29.04  & 30.1   & 16.140 & 16.822\\\\\n",
       "\t1959-06-01 & 29.11  & 30.2   & 16.186 & 16.871\\\\\n",
       "\\end{tabular}\n"
      ],
      "text/markdown": [
       "\n",
       "| <!--/--> | CPIAUCSL | CPILFESL | PCEPI | PCEPILFE |\n",
       "|---|---|---|---|---|\n",
       "| 1959-01-01 | 29.01  | 29.9   | 16.074 | 16.727 |\n",
       "| 1959-02-01 | 29.00  | 29.9   | 16.089 | 16.740 |\n",
       "| 1959-03-01 | 28.97  | 30.0   | 16.100 | 16.759 |\n",
       "| 1959-04-01 | 28.98  | 30.0   | 16.132 | 16.801 |\n",
       "| 1959-05-01 | 29.04  | 30.1   | 16.140 | 16.822 |\n",
       "| 1959-06-01 | 29.11  | 30.2   | 16.186 | 16.871 |\n",
       "\n"
      ],
      "text/plain": [
       "           CPIAUCSL CPILFESL PCEPI  PCEPILFE\n",
       "1959-01-01 29.01    29.9     16.074 16.727  \n",
       "1959-02-01 29.00    29.9     16.089 16.740  \n",
       "1959-03-01 28.97    30.0     16.100 16.759  \n",
       "1959-04-01 28.98    30.0     16.132 16.801  \n",
       "1959-05-01 29.04    30.1     16.140 16.822  \n",
       "1959-06-01 29.11    30.2     16.186 16.871  "
      ]
     },
     "metadata": {},
     "output_type": "display_data"
    }
   ],
   "source": [
    "data= data.frame(cpi1,cpi2,pcepi1,pcepi2)\n",
    "head(data)"
   ]
  },
  {
   "cell_type": "markdown",
   "metadata": {},
   "source": [
    "Now, we are going to trasnform the data into the first differences of the log and generate a new data frame with the differences data"
   ]
  },
  {
   "cell_type": "code",
   "execution_count": 35,
   "metadata": {},
   "outputs": [],
   "source": [
    "inf1= diff(log(cpi1))\n",
    "inf1 = ts(inf1, start = 1959, deltat = 1/12)\n",
    "\n",
    "inf2= diff(log(cpi2))\n",
    "inf2 = ts(inf2, start = 1959, deltat = 1/12)\n",
    "\n",
    "inf3= diff(log(pcepi1))\n",
    "inf3= ts(inf3, start = 1959, deltat = 1/12)\n",
    "\n",
    "inf4=diff(log(pcepi2))\n",
    "inf4 = ts(inf4, start = 1959, deltat = 1/12)\n"
   ]
  },
  {
   "cell_type": "code",
   "execution_count": 36,
   "metadata": {},
   "outputs": [],
   "source": [
    "data=ts(data.frame(inf1, inf2, inf3, inf4), start=1959, deltat=1/12)"
   ]
  },
  {
   "cell_type": "code",
   "execution_count": 37,
   "metadata": {
    "scrolled": false
   },
   "outputs": [
    {
     "data": {
      "image/png": "[encoded data removed]",
      "text/plain": [
       "Plot with title \"Inflation - CPILFESL\""
      ]
     },
     "metadata": {},
     "output_type": "display_data"
    },
    {
     "data": {
      "image/png": "[encoded data removed]",
      "text/plain": [
       "Plot with title \"Inflation - PCEPILFE\""
      ]
     },
     "metadata": {},
     "output_type": "display_data"
    }
   ],
   "source": [
    "par(mfrow=c(2,1))\n",
    "plot(inf1, main=\"Inflation - CPIAUCSL\", ylab=\"Inflation\", col=\"darkorange2\")\n",
    "plot(inf2, main=\"Inflation - CPILFESL\", ylab=\"Inflation\", col=\"darkorange2\")\n",
    "plot(inf3, main=\"Inflation - PCEPI\", ylab=\"Inflation\", col=\"darkorange2\")\n",
    "plot(inf4, main=\"Inflation - PCEPILFE\", ylab=\"Inflation\", col=\"darkorange2\")"
   ]
  },
  {
   "cell_type": "markdown",
   "metadata": {},
   "source": [
    "### EXERCISE 2B"
   ]
  },
  {
   "cell_type": "code",
   "execution_count": 38,
   "metadata": {
    "scrolled": false
   },
   "outputs": [],
   "source": [
    "library(\"dlm\")"
   ]
  },
  {
   "cell_type": "markdown",
   "metadata": {},
   "source": [
    "Given the true model for inflation follows a random walk our FF coefficient will be 1. \n",
    "\n",
    "First, let's set up the state space model:"
   ]
  },
  {
   "cell_type": "code",
   "execution_count": 39,
   "metadata": {},
   "outputs": [
    {
     "data": {
      "text/plain": [
       "[[1]]\n",
       "$FF\n",
       "     [,1]\n",
       "[1,]    1\n",
       "\n",
       "$V\n",
       "     [,1]\n",
       "[1,]  0.1\n",
       "\n",
       "$GG\n",
       "     [,1]\n",
       "[1,]    1\n",
       "\n",
       "$W\n",
       "     [,1]\n",
       "[1,]  0.2\n",
       "\n",
       "$m0\n",
       "[1] 0\n",
       "\n",
       "$C0\n",
       "     [,1]\n",
       "[1,]  0.5\n",
       "\n"
      ]
     },
     "metadata": {},
     "output_type": "display_data"
    }
   ],
   "source": [
    "dlm1= dlm(FF= 1, V = 0.1, GG = 1, W = 0.2, m0 = 0, C0 = 0.5)\n",
    "\n",
    "list(dlm1)"
   ]
  },
  {
   "cell_type": "markdown",
   "metadata": {},
   "source": [
    "Now, we are going to apply the Kalmen Filter:"
   ]
  },
  {
   "cell_type": "code",
   "execution_count": 40,
   "metadata": {},
   "outputs": [
    {
     "data": {
      "image/png": "[encoded data removed]",
      "text/plain": [
       "plot without title"
      ]
     },
     "metadata": {},
     "output_type": "display_data"
    }
   ],
   "source": [
    "kfilter1 = dlmFilter(inf1, dlm1)\n",
    "plot(inf1, type = 'l', col=\"black\", ylab=\"Inflation\") \n",
    "lines(dropFirst(kfilter1$m), type = 'l',pch = 20, col = \"darkorange2\")\n",
    "legend(\"topright\", c(\"CPI\",\"Filtered Inflation Level\"), fill=c(\"black\",\"darkorange2\"),cex=0.8)"
   ]
  },
  {
   "cell_type": "markdown",
   "metadata": {},
   "source": [
    "Kalman filter is an iterative method that uses consecutive data inputs to keep updating its estimates. In this case, the true inflation is our unobservable variable that we are interested in estimating. We are using the diff(log(CPI)) as the measurement variable. \n",
    "\n",
    "So, what Kalman filter does is calculating a different posterior each time it receives a new input since the goal is to use all information available to estimate our variable of interest. <br>\n",
    "Posterior:<br>\n",
    "$ \\theta_t| D_{t-1} $<br>\n",
    "\n",
    " In the first period, the posterior will be a linear combination between the prior - our initial guess about the value of the true inflation - and the Kalman Gain prediction error (The second term takes into account the new information received in time t, minimizing the differences between our forecasts about the measurement variable and new input received by the variable).\n",
    " In time 4,for example, the true inflation estimate will be a linear combination between the prior (the estimate of period 3) and the Kalman Gain prediction error. This posterior will then be used as the prior for period 5 estimation, and so on and so forth until we reach an accurate estimate of the real inflation rate."
   ]
  },
  {
   "cell_type": "markdown",
   "metadata": {},
   "source": [
    "### EXERCISE 2C"
   ]
  },
  {
   "cell_type": "code",
   "execution_count": 41,
   "metadata": {},
   "outputs": [
    {
     "data": {
      "text/html": [
       "<table>\n",
       "<tbody>\n",
       "\t<tr><td>1</td></tr>\n",
       "\t<tr><td>1</td></tr>\n",
       "\t<tr><td>1</td></tr>\n",
       "\t<tr><td>1</td></tr>\n",
       "</tbody>\n",
       "</table>\n"
      ],
      "text/latex": [
       "\\begin{tabular}{l}\n",
       "\t 1\\\\\n",
       "\t 1\\\\\n",
       "\t 1\\\\\n",
       "\t 1\\\\\n",
       "\\end{tabular}\n"
      ],
      "text/markdown": [
       "\n",
       "| 1 |\n",
       "| 1 |\n",
       "| 1 |\n",
       "| 1 |\n",
       "\n"
      ],
      "text/plain": [
       "     [,1]\n",
       "[1,] 1   \n",
       "[2,] 1   \n",
       "[3,] 1   \n",
       "[4,] 1   "
      ]
     },
     "metadata": {},
     "output_type": "display_data"
    },
    {
     "data": {
      "text/html": [
       "<table>\n",
       "<tbody>\n",
       "\t<tr><td>1</td><td>0</td><td>0</td><td>0</td></tr>\n",
       "\t<tr><td>0</td><td>1</td><td>0</td><td>0</td></tr>\n",
       "\t<tr><td>0</td><td>0</td><td>1</td><td>0</td></tr>\n",
       "\t<tr><td>0</td><td>0</td><td>0</td><td>1</td></tr>\n",
       "</tbody>\n",
       "</table>\n"
      ],
      "text/latex": [
       "\\begin{tabular}{llll}\n",
       "\t 1 & 0 & 0 & 0\\\\\n",
       "\t 0 & 1 & 0 & 0\\\\\n",
       "\t 0 & 0 & 1 & 0\\\\\n",
       "\t 0 & 0 & 0 & 1\\\\\n",
       "\\end{tabular}\n"
      ],
      "text/markdown": [
       "\n",
       "| 1 | 0 | 0 | 0 |\n",
       "| 0 | 1 | 0 | 0 |\n",
       "| 0 | 0 | 1 | 0 |\n",
       "| 0 | 0 | 0 | 1 |\n",
       "\n"
      ],
      "text/plain": [
       "     [,1] [,2] [,3] [,4]\n",
       "[1,] 1    0    0    0   \n",
       "[2,] 0    1    0    0   \n",
       "[3,] 0    0    1    0   \n",
       "[4,] 0    0    0    1   "
      ]
     },
     "metadata": {},
     "output_type": "display_data"
    }
   ],
   "source": [
    "library(\"dlm\")\n",
    "FF1 = matrix(c(1,1,1,1), byrow=TRUE, nrow=4) # Now, our FF matrix will a a 4*1\n",
    "VV1= diag(4)\n",
    "FF1\n",
    "VV1"
   ]
  },
  {
   "cell_type": "code",
   "execution_count": 42,
   "metadata": {},
   "outputs": [
    {
     "data": {
      "text/plain": [
       "[[1]]\n",
       "$FF\n",
       "     [,1]\n",
       "[1,]    1\n",
       "[2,]    1\n",
       "[3,]    1\n",
       "[4,]    1\n",
       "\n",
       "$V\n",
       "     [,1] [,2] [,3] [,4]\n",
       "[1,]    1    0    0    0\n",
       "[2,]    0    1    0    0\n",
       "[3,]    0    0    1    0\n",
       "[4,]    0    0    0    1\n",
       "\n",
       "$GG\n",
       "     [,1]\n",
       "[1,]    1\n",
       "\n",
       "$W\n",
       "     [,1]\n",
       "[1,]  0.2\n",
       "\n",
       "$m0\n",
       "[1] 0\n",
       "\n",
       "$C0\n",
       "     [,1]\n",
       "[1,]  0.5\n",
       "\n"
      ]
     },
     "metadata": {},
     "output_type": "display_data"
    }
   ],
   "source": [
    "dlm2= dlm(FF=FF1, V = VV1, GG =1, W = 0.2, m0 = 0, C0 = 0.5)\n",
    "list(dlm2)"
   ]
  },
  {
   "cell_type": "code",
   "execution_count": 43,
   "metadata": {},
   "outputs": [
    {
     "data": {
      "image/png": "[encoded data removed]",
      "text/plain": [
       "Plot with title \" True Inflation by Kalman Filter_ Using 4 meas. Variables\""
      ]
     },
     "metadata": {},
     "output_type": "display_data"
    }
   ],
   "source": [
    "kfilter2 = dlmFilter(c(inf1,inf2,inf3,inf4), dlm2)\n",
    "plot(ts(dropFirst(kfilter2$m), start=1959, deltat=1/12), type = 'l', pch = 20, col = \"red\", main= \" True Inflation by Kalman Filter_ Using 4 meas. Variables\", ylab=\"Inflation\")\n"
   ]
  },
  {
   "cell_type": "markdown",
   "metadata": {},
   "source": [
    "__In order to make the comparison between b) and c) let's put them in the same graph.__"
   ]
  },
  {
   "cell_type": "code",
   "execution_count": 30,
   "metadata": {},
   "outputs": [
    {
     "data": {
      "image/png": "[encoded data removed]",
      "text/plain": [
       "Plot with title \" True Inflation by Kalman Filter: Using one vs Using 4 meas. Variables\""
      ]
     },
     "metadata": {},
     "output_type": "display_data"
    }
   ],
   "source": [
    "plot(ts(dropFirst(kfilter2$m), start=1959, deltat=1/12), type = 'l', pch = 20, col = \"red\", main= \" True Inflation by Kalman Filter: Using one vs Using 4 meas. Variables\", ylab=\"Inflation\")\n",
    "lines(dropFirst(kfilter1$m), type = 'l',pch = 20, col = \"seagreen3\")\n",
    "legend(\"bottomright\", legend=c(\"4 Meas. Variables\", \"1 Meas. Variable\"), col=c(\"red\", \"seagreen3\"), lty=1:1, cex=0.6)"
   ]
  },
  {
   "cell_type": "markdown",
   "metadata": {},
   "source": [
    "In the green line, Kalman filter instead of just usig one measurement variable we are using 4 different variables. This means that for each time period, __our algorithm has more information to work with__. \n",
    "This implies that Kalman Filter can reach values closer to the true inflation faster and more accuratly. \n",
    "We can observe this in the graph, the red line is much more volatile while the green line is more precise and could reache the \"true\" value earlier."
   ]
  },
  {
   "cell_type": "code",
   "execution_count": 31,
   "metadata": {},
   "outputs": [],
   "source": [
    "m= c(-0.03,-0.01,0.01,0.03)"
   ]
  },
  {
   "cell_type": "code",
   "execution_count": 32,
   "metadata": {
    "scrolled": false
   },
   "outputs": [
    {
     "data": {
      "image/png": "[encoded data removed]",
      "text/plain": [
       "Plot with title \"Kalman Filter estimation of True \""
      ]
     },
     "metadata": {},
     "output_type": "display_data"
    },
    {
     "data": {
      "image/png": "[encoded data removed]",
      "text/plain": [
       "Plot with title \"Kalman Filter estimation of True \""
      ]
     },
     "metadata": {},
     "output_type": "display_data"
    },
    {
     "data": {
      "image/png": "[encoded data removed]",
      "text/plain": [
       "Plot with title \"Kalman Filter estimation of True \""
      ]
     },
     "metadata": {},
     "output_type": "display_data"
    },
    {
     "data": {
      "image/png": "[encoded data removed]",
      "text/plain": [
       "Plot with title \"Kalman Filter estimation of True \""
      ]
     },
     "metadata": {},
     "output_type": "display_data"
    }
   ],
   "source": [
    "for (i in m) {\n",
    "    \n",
    "dlm(FF= matrix(c(1,1,1,1), byrow=TRUE, nrow=4) , V = diag(4), GG = 1, W = 0.2, m0 = i, C0 = 0.5)\n",
    "kfilter3= dlmFilter(c(inf1,inf2,inf3,inf4), dlm(FF=matrix(c(1,1,1,1), byrow=TRUE, nrow=4), V =diag(4), GG =1, W = 0.2, m0 = i, C0 = 0.5))\n",
    "plot(ts(dropFirst(kfilter3$m), start=1959, deltat=1/12), type = 'l',pch = 20, col = \"seagreen\", main=\"Kalman Filter estimation of True \")\n",
    "    }\n",
    "    "
   ]
  },
  {
   "cell_type": "markdown",
   "metadata": {},
   "source": [
    "It is important to pay attention to the scale because it might bias our interpretation.  In zero, we only have the initial guess, so that is why the graphs are so different in the first point, however, as we get more observations from the measurement variables, the kalman filter will calculate new priors based on past estimates and will adjust the weights, so the graphs, rapidly converge and start to be similiar to one another. Hence, in fact, the initial guess is not very important. \n"
   ]
  },
  {
   "cell_type": "markdown",
   "metadata": {},
   "source": [
    "### EXERCISE 2D"
   ]
  },
  {
   "cell_type": "markdown",
   "metadata": {},
   "source": [
    "In order to apply the principal component analysis, we first need to scale the data. Regarding the stationarity, for this analysis, we are assuming the inflation data is stationary."
   ]
  },
  {
   "cell_type": "code",
   "execution_count": 33,
   "metadata": {},
   "outputs": [],
   "source": [
    "datans0=data[2:734,] #I am going to take off the first line since the prcomp comand can't use NA data\n",
    "datas=scale(datans0, center = TRUE, scale = TRUE)"
   ]
  },
  {
   "cell_type": "markdown",
   "metadata": {},
   "source": [
    "Now that we have our data scaled, we can move forward to the analysis of the principal components."
   ]
  },
  {
   "cell_type": "code",
   "execution_count": 34,
   "metadata": {},
   "outputs": [
    {
     "data": {
      "text/html": [
       "734"
      ],
      "text/latex": [
       "734"
      ],
      "text/markdown": [
       "734"
      ],
      "text/plain": [
       "[1] 734"
      ]
     },
     "metadata": {},
     "output_type": "display_data"
    }
   ],
   "source": [
    "nrow(data)"
   ]
  },
  {
   "cell_type": "code",
   "execution_count": 35,
   "metadata": {},
   "outputs": [
    {
     "data": {
      "text/html": [
       "<table>\n",
       "<thead><tr><th scope=col>CPIAUCSL</th><th scope=col>CPILFESL</th><th scope=col>PCEPI</th><th scope=col>PCEPILFE</th></tr></thead>\n",
       "<tbody>\n",
       "\t<tr><td>-1.0741488 </td><td>-1.2097948 </td><td>-0.69183700</td><td>-0.93290479</td></tr>\n",
       "\t<tr><td>-1.2966910 </td><td> 0.1424151 </td><td>-0.79324024</td><td>-0.75050283</td></tr>\n",
       "\t<tr><td>-0.8517217 </td><td>-1.2097948 </td><td>-0.26356098</td><td>-0.05216895</td></tr>\n",
       "\t<tr><td>-0.2961715 </td><td> 0.1379152 </td><td>-0.86958284</td><td>-0.69193525</td></tr>\n",
       "\t<tr><td>-0.1867738 </td><td> 0.1334452 </td><td> 0.08642992</td><td> 0.15480622</td></tr>\n",
       "\t<tr><td>-0.5202767 </td><td>-1.2097948 </td><td>-0.21768785</td><td>-0.12097829</td></tr>\n",
       "</tbody>\n",
       "</table>\n"
      ],
      "text/latex": [
       "\\begin{tabular}{llll}\n",
       " CPIAUCSL & CPILFESL & PCEPI & PCEPILFE\\\\\n",
       "\\hline\n",
       "\t -1.0741488  & -1.2097948  & -0.69183700 & -0.93290479\\\\\n",
       "\t -1.2966910  &  0.1424151  & -0.79324024 & -0.75050283\\\\\n",
       "\t -0.8517217  & -1.2097948  & -0.26356098 & -0.05216895\\\\\n",
       "\t -0.2961715  &  0.1379152  & -0.86958284 & -0.69193525\\\\\n",
       "\t -0.1867738  &  0.1334452  &  0.08642992 &  0.15480622\\\\\n",
       "\t -0.5202767  & -1.2097948  & -0.21768785 & -0.12097829\\\\\n",
       "\\end{tabular}\n"
      ],
      "text/markdown": [
       "\n",
       "| CPIAUCSL | CPILFESL | PCEPI | PCEPILFE |\n",
       "|---|---|---|---|\n",
       "| -1.0741488  | -1.2097948  | -0.69183700 | -0.93290479 |\n",
       "| -1.2966910  |  0.1424151  | -0.79324024 | -0.75050283 |\n",
       "| -0.8517217  | -1.2097948  | -0.26356098 | -0.05216895 |\n",
       "| -0.2961715  |  0.1379152  | -0.86958284 | -0.69193525 |\n",
       "| -0.1867738  |  0.1334452  |  0.08642992 |  0.15480622 |\n",
       "| -0.5202767  | -1.2097948  | -0.21768785 | -0.12097829 |\n",
       "\n"
      ],
      "text/plain": [
       "     CPIAUCSL   CPILFESL   PCEPI       PCEPILFE   \n",
       "[1,] -1.0741488 -1.2097948 -0.69183700 -0.93290479\n",
       "[2,] -1.2966910  0.1424151 -0.79324024 -0.75050283\n",
       "[3,] -0.8517217 -1.2097948 -0.26356098 -0.05216895\n",
       "[4,] -0.2961715  0.1379152 -0.86958284 -0.69193525\n",
       "[5,] -0.1867738  0.1334452  0.08642992  0.15480622\n",
       "[6,] -0.5202767 -1.2097948 -0.21768785 -0.12097829"
      ]
     },
     "metadata": {},
     "output_type": "display_data"
    }
   ],
   "source": [
    "head(datas) #Now, we are ready to apply the PC analysis"
   ]
  },
  {
   "cell_type": "code",
   "execution_count": 36,
   "metadata": {},
   "outputs": [
    {
     "data": {
      "image/png": "[encoded data removed]",
      "text/plain": [
       "Plot with title \"Inflation_CPI_Not_Scaled\""
      ]
     },
     "metadata": {},
     "output_type": "display_data"
    }
   ],
   "source": [
    "par(mfrow=c(2,1))\n",
    "plot(datas[,1], main=\"Inflation_CPI_Scaled\", ylab=\"Inflation\", type=\"l\")\n",
    "abline(h=0,col=\"red\")\n",
    "plot(data[,1],main=\"Inflation_CPI_Not_Scaled\", ylab=\"Inflation\", type=\"l\" )\n",
    "abline(h=0, col=\"red\")"
   ]
  },
  {
   "cell_type": "code",
   "execution_count": 37,
   "metadata": {},
   "outputs": [
    {
     "data": {
      "text/plain": [
       "Importance of components:\n",
       "                          PC1    PC2     PC3     PC4\n",
       "Standard deviation     1.8038 0.6677 0.52647 0.15268\n",
       "Proportion of Variance 0.8134 0.1115 0.06929 0.00583\n",
       "Cumulative Proportion  0.8134 0.9249 0.99417 1.00000"
      ]
     },
     "metadata": {},
     "output_type": "display_data"
    }
   ],
   "source": [
    "pca <- prcomp(datas, center=FALSE, scale.=FALSE)  \n",
    "summary(pca)"
   ]
  },
  {
   "cell_type": "code",
   "execution_count": 38,
   "metadata": {},
   "outputs": [
    {
     "data": {
      "image/png": "[encoded data removed]",
      "text/plain": [
       "Plot with title \"pca\""
      ]
     },
     "metadata": {},
     "output_type": "display_data"
    }
   ],
   "source": [
    "plot(pca, type='l') "
   ]
  },
  {
   "cell_type": "markdown",
   "metadata": {},
   "source": [
    "With one factor, we can explain around 81,34% of the variance of the data, which is very good. Our goal when using Principal component analysis is to try to reduce the dimensions, this is, try to explain the maximum variance we can with a lower number of variables. The decision of how many variables to choose is, indeed, subjective and depends on the purpose of the analysis.\n",
    "\n",
    "Hence, instead of having four different variables, we will have a lower number of variables that will no longer be the ones we knew, but will correspond to the principal components. These principal components aggregate information from the different variables, and are orthogonal to each other. "
   ]
  },
  {
   "cell_type": "code",
   "execution_count": 39,
   "metadata": {},
   "outputs": [
    {
     "data": {
      "text/html": [
       "<table>\n",
       "<thead><tr><th></th><th scope=col>PC1</th></tr></thead>\n",
       "<tbody>\n",
       "\t<tr><th scope=row>CPIAUCSL</th><td>0.4999666</td></tr>\n",
       "\t<tr><th scope=row>CPILFESL</th><td>0.4750217</td></tr>\n",
       "\t<tr><th scope=row>PCEPI</th><td>0.5231357</td></tr>\n",
       "\t<tr><th scope=row>PCEPILFE</th><td>0.5007164</td></tr>\n",
       "</tbody>\n",
       "</table>\n"
      ],
      "text/latex": [
       "\\begin{tabular}{r|l}\n",
       "  & PC1\\\\\n",
       "\\hline\n",
       "\tCPIAUCSL & 0.4999666\\\\\n",
       "\tCPILFESL & 0.4750217\\\\\n",
       "\tPCEPI & 0.5231357\\\\\n",
       "\tPCEPILFE & 0.5007164\\\\\n",
       "\\end{tabular}\n"
      ],
      "text/markdown": [
       "\n",
       "| <!--/--> | PC1 |\n",
       "|---|---|\n",
       "| CPIAUCSL | 0.4999666 |\n",
       "| CPILFESL | 0.4750217 |\n",
       "| PCEPI | 0.5231357 |\n",
       "| PCEPILFE | 0.5007164 |\n",
       "\n"
      ],
      "text/plain": [
       "         PC1      \n",
       "CPIAUCSL 0.4999666\n",
       "CPILFESL 0.4750217\n",
       "PCEPI    0.5231357\n",
       "PCEPILFE 0.5007164"
      ]
     },
     "metadata": {},
     "output_type": "display_data"
    },
    {
     "data": {
      "text/html": [
       "<table>\n",
       "<thead><tr><th scope=col>PC1</th></tr></thead>\n",
       "<tbody>\n",
       "\t<tr><td>-1.94076262</td></tr>\n",
       "\t<tr><td>-1.37141322</td></tr>\n",
       "\t<tr><td>-1.16451115</td></tr>\n",
       "\t<tr><td>-0.88393628</td></tr>\n",
       "\t<tr><td> 0.09273731</td></tr>\n",
       "\t<tr><td>-1.00925581</td></tr>\n",
       "</tbody>\n",
       "</table>\n"
      ],
      "text/latex": [
       "\\begin{tabular}{l}\n",
       " PC1\\\\\n",
       "\\hline\n",
       "\t -1.94076262\\\\\n",
       "\t -1.37141322\\\\\n",
       "\t -1.16451115\\\\\n",
       "\t -0.88393628\\\\\n",
       "\t  0.09273731\\\\\n",
       "\t -1.00925581\\\\\n",
       "\\end{tabular}\n"
      ],
      "text/markdown": [
       "\n",
       "| PC1 |\n",
       "|---|\n",
       "| -1.94076262 |\n",
       "| -1.37141322 |\n",
       "| -1.16451115 |\n",
       "| -0.88393628 |\n",
       "|  0.09273731 |\n",
       "| -1.00925581 |\n",
       "\n"
      ],
      "text/plain": [
       "     PC1        \n",
       "[1,] -1.94076262\n",
       "[2,] -1.37141322\n",
       "[3,] -1.16451115\n",
       "[4,] -0.88393628\n",
       "[5,]  0.09273731\n",
       "[6,] -1.00925581"
      ]
     },
     "metadata": {},
     "output_type": "display_data"
    }
   ],
   "source": [
    "pca1 <- prcomp(datas, center=FALSE, scale.=FALSE, rank. = 1)  # Let's estimate the first component, as we have seen it is able to explain 54% of the variance of the data.\n",
    "\n",
    "pca1$rotation #We get the factor loadings\n",
    "\n",
    "head(pca1$x) # We get the values for the PC1\n",
    "\n",
    "pca1x=pca1$x #Storing those values\n"
   ]
  },
  {
   "cell_type": "markdown",
   "metadata": {},
   "source": [
    "__Predicted time series vs raw data__"
   ]
  },
  {
   "cell_type": "code",
   "execution_count": 40,
   "metadata": {},
   "outputs": [
    {
     "data": {
      "text/html": [
       "0.00298687652814118"
      ],
      "text/latex": [
       "0.00298687652814118"
      ],
      "text/markdown": [
       "0.00298687652814118"
      ],
      "text/plain": [
       "[1] 0.002986877"
      ]
     },
     "metadata": {},
     "output_type": "display_data"
    },
    {
     "data": {
      "text/html": [
       "0.00310166018883366"
      ],
      "text/latex": [
       "0.00310166018883366"
      ],
      "text/markdown": [
       "0.00310166018883366"
      ],
      "text/plain": [
       "[1] 0.00310166"
      ]
     },
     "metadata": {},
     "output_type": "display_data"
    },
    {
     "data": {
      "text/html": [
       "0.00298724736142852"
      ],
      "text/latex": [
       "0.00298724736142852"
      ],
      "text/markdown": [
       "0.00298724736142852"
      ],
      "text/plain": [
       "[1] 0.002987247"
      ]
     },
     "metadata": {},
     "output_type": "display_data"
    },
    {
     "data": {
      "text/html": [
       "0.00246921813039313"
      ],
      "text/latex": [
       "0.00246921813039313"
      ],
      "text/markdown": [
       "0.00246921813039313"
      ],
      "text/plain": [
       "[1] 0.002469218"
      ]
     },
     "metadata": {},
     "output_type": "display_data"
    },
    {
     "data": {
      "text/html": [
       "0.0026335324689812"
      ],
      "text/latex": [
       "0.0026335324689812"
      ],
      "text/markdown": [
       "0.0026335324689812"
      ],
      "text/plain": [
       "[1] 0.002633532"
      ]
     },
     "metadata": {},
     "output_type": "display_data"
    },
    {
     "data": {
      "text/html": [
       "0.00245835881977061"
      ],
      "text/latex": [
       "0.00245835881977061"
      ],
      "text/markdown": [
       "0.00245835881977061"
      ],
      "text/plain": [
       "[1] 0.002458359"
      ]
     },
     "metadata": {},
     "output_type": "display_data"
    },
    {
     "data": {
      "text/html": [
       "0.00260522354054719"
      ],
      "text/latex": [
       "0.00260522354054719"
      ],
      "text/markdown": [
       "0.00260522354054719"
      ],
      "text/plain": [
       "[1] 0.002605224"
      ]
     },
     "metadata": {},
     "output_type": "display_data"
    },
    {
     "data": {
      "text/html": [
       "0.00195983431024522"
      ],
      "text/latex": [
       "0.00195983431024522"
      ],
      "text/markdown": [
       "0.00195983431024522"
      ],
      "text/plain": [
       "[1] 0.001959834"
      ]
     },
     "metadata": {},
     "output_type": "display_data"
    }
   ],
   "source": [
    "#we need to get the values for the standard deviation and the mean for each of the initial variables, inf1, inf2, inf3, inf4.\n",
    "\n",
    "\n",
    "mean(datans0[,1]) #mean of inf1 not scaled \n",
    "sd(datans0[,1]) #Standard Dev of inf not scaled\n",
    "\n",
    "mean(datans0[,2]) \n",
    "sd(datans0[,2]) \n",
    "\n",
    "mean(datans0[,3])\n",
    "sd(datans0[,3]) \n",
    "\n",
    "mean(datans0[,4]) \n",
    "sd(datans0[,4]) \n"
   ]
  },
  {
   "cell_type": "code",
   "execution_count": 41,
   "metadata": {},
   "outputs": [],
   "source": [
    "predinf1= (pca1$x%*%pca1$rotation[1,1])*sd(datans0[,1])+mean(datans0[,1]) #the scaled predicted values for infcpi\n",
    " \n",
    "predinf2=(pca1$x%*%pca1$rotation[2])*sd(datans0[,2])+mean(datans0[,2]) #the scaled predicted values for infcpilf\n",
    "\n",
    "predinf3=(pca1$x%*%pca1$rotation[3])*sd(datans0[,3])+mean(datans0[,3]) #the scaled predicted values for infpcepi\n",
    "\n",
    "predinf4=(pca1$x%*%pca1$rotation[4])*sd(datans0[,4])+mean(datans0[,4]) #the scaled predicted values for infpcepilfe\n",
    "\n"
   ]
  },
  {
   "cell_type": "code",
   "execution_count": 42,
   "metadata": {},
   "outputs": [
    {
     "data": {
      "image/png": "[encoded data removed]",
      "text/plain": [
       "Plot with title \"Principal Components Prediciton-CPI2\""
      ]
     },
     "metadata": {},
     "output_type": "display_data"
    },
    {
     "data": {
      "image/png": "[encoded data removed]",
      "text/plain": [
       "Plot with title \"Principal Components Prediciton- PCEPI2\""
      ]
     },
     "metadata": {},
     "output_type": "display_data"
    }
   ],
   "source": [
    "par(mfrow=c(2,1))\n",
    "\n",
    "plot(ts(data[,1], start=1959, deltat = 1/12), type='l', main=\"Principal Components Prediciton- CPI1\", ylab=\"inflation\")\n",
    "lines(ts(predinf1,start=1959, deltat = 1/12), type='l', col='red' )\n",
    "\n",
    "plot(ts(data[,2], start=1959, deltat = 1/12), type='l', main=\"Principal Components Prediciton-CPI2\", ylab=\"inflation\")\n",
    "lines(ts(predinf2,start=1959, deltat = 1/12), type='l', col='red' )\n",
    "\n",
    "plot(ts(data[,3], start=1959, deltat = 1/12), type='l', main=\"Principal Components Prediciton-PCEPI1\", ylab=\"inflation\")\n",
    "lines(ts(predinf3,start=1959, deltat = 1/12), type='l', col='red' )\n",
    "\n",
    "plot(ts(data[,4], start=1959, deltat = 1/12), type='l', main=\"Principal Components Prediciton- PCEPI2\", ylab=\"inflation\")\n",
    "lines(ts(predinf4,start=1959, deltat = 1/12), type='l', col='red' )\n",
    "\n",
    "\n",
    "\n"
   ]
  },
  {
   "cell_type": "markdown",
   "metadata": {},
   "source": [
    "### EXERCISE 2E"
   ]
  },
  {
   "cell_type": "code",
   "execution_count": 43,
   "metadata": {},
   "outputs": [
    {
     "data": {
      "image/png": "[encoded data removed]",
      "text/plain": [
       "Plot with title \"True inflation estimation by Kalman Filter vs by PC Analysis - CPI\""
      ]
     },
     "metadata": {},
     "output_type": "display_data"
    }
   ],
   "source": [
    "plot(ts(pca1$x%*%pca1$rotation[1,1]*sd(datans0[,1])+mean(datans0[,1]), start=1959, deltat=1/12), main=\"True inflation estimation by Kalman Filter vs by PC Analysis - CPI\",type=\"l\", ylab= \"Inflation\")\n",
    "\n",
    "lines(ts(dropFirst(kfilter2$m), start=1959, deltat=1/12), type = 'l', pch = 20, col = \"darkorange1\", main= \" True Inflation by Kalman Filter\", ylab=\"Inflation\")\n",
    "legend(\"bottomright\", legend=c(\"Kalman Filter\", \"PCA\"), col=c(\"darkorange1\", \"black\"), lty=1:1, cex=0.8)"
   ]
  },
  {
   "cell_type": "markdown",
   "metadata": {},
   "source": [
    "Although the Principal Component Analysis and the Kalman filter use different mathematical approaches, in this case, their goal is similar: Find the true inflation series using different measurement variables. \n",
    "Kalman Filter uses an iteration method to calculate estimations of the true inflation having into account all the information available. PCA will create a new variable, using the information and the variance of the different measurement varaibles, and will be like a linear combination of the 4 inflation variables we have.\n",
    "Although PCA and Kalman filter do it in a different manner, their goal is to capture the underlying behavior of an unobserved variable: inflation.\n",
    "In this graph, as we would expect, we can see that PCA and Kalman Filter reach similiar conclusions regarding the behavior of the true inflation."
   ]
  }
 ],
 "metadata": {
  "kernelspec": {
   "display_name": "R",
   "language": "R",
   "name": "ir"
  },
  "language_info": {
   "codemirror_mode": "r",
   "file_extension": ".r",
   "mimetype": "text/x-r-source",
   "name": "R",
   "pygments_lexer": "r",
   "version": "3.6.1"
  },
  "varInspector": {
   "cols": {
    "lenName": 16,
    "lenType": 16,
    "lenVar": 40
   },
   "kernels_config": {
    "python": {
     "delete_cmd_postfix": "",
     "delete_cmd_prefix": "del ",
     "library": "var_list.py",
     "varRefreshCmd": "print(var_dic_list())"
    },
    "r": {
     "delete_cmd_postfix": ") ",
     "delete_cmd_prefix": "rm(",
     "library": "var_list.r",
     "varRefreshCmd": "cat(var_dic_list()) "
    }
   },
   "position": {
    "height": "242.86px",
    "left": "1294.57px",
    "right": "20px",
    "top": "120px",
    "width": "355px"
   },
   "types_to_exclude": [
    "module",
    "function",
    "builtin_function_or_method",
    "instance",
    "_Feature"
   ],
   "window_display": false
  }
 },
 "nbformat": 4,
 "nbformat_minor": 4
}
